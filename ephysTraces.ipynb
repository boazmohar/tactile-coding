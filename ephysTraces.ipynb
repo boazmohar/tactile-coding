{
 "cells": [
  {
   "cell_type": "markdown",
   "metadata": {},
   "source": [
    "# *svoboda lab / tactile navigation*"
   ]
  },
  {
   "cell_type": "markdown",
   "metadata": {},
   "source": [
    "## Setup evnironment"
   ]
  },
  {
   "cell_type": "code",
   "execution_count": 1,
   "metadata": {
    "collapsed": true
   },
   "outputs": [],
   "source": [
    "import os\n",
    "import numpy as np\n",
    "import pandas as pd\n",
    "import scipy.io as sio\n",
    "import json\n",
    "import re\n",
    "from scipy.stats import f_oneway\n",
    "from scipy.interpolate import UnivariateSpline\n",
    "save = False"
   ]
  },
  {
   "cell_type": "markdown",
   "metadata": {},
   "source": [
    "## Setup plotting"
   ]
  },
  {
   "cell_type": "code",
   "execution_count": 2,
   "metadata": {
    "collapsed": false
   },
   "outputs": [],
   "source": [
    "import matplotlib.pyplot as plt\n",
    "from matplotlib.colors import ListedColormap\n",
    "from colorsys import hsv_to_rgb, rgb_to_hsv\n",
    "%matplotlib inline\n",
    "import seaborn as sns\n",
    "sns.set_context('paper')\n",
    "sns.set_style('ticks')\n",
    "from helper.plots import colormap"
   ]
  },
  {
   "cell_type": "markdown",
   "metadata": {},
   "source": [
    "## Load raw data"
   ]
  },
  {
   "cell_type": "code",
   "execution_count": 3,
   "metadata": {
    "collapsed": true
   },
   "outputs": [],
   "source": [
    "path = os.path.expanduser('~/Dropbox/paper.tuning')"
   ]
  },
  {
   "cell_type": "code",
   "execution_count": 98,
   "metadata": {
    "collapsed": true
   },
   "outputs": [],
   "source": [
    "iSession = 12\n",
    "sessionName = '%02g' % iSession"
   ]
  },
  {
   "cell_type": "markdown",
   "metadata": {},
   "source": [
    "#### Load info"
   ]
  },
  {
   "cell_type": "code",
   "execution_count": 99,
   "metadata": {
    "collapsed": false
   },
   "outputs": [],
   "source": [
    "with open(os.path.join(path,'data',sessionName,'info.json')) as infile:\n",
    "    info = json.load(infile)\n",
    "info['contributors'] = ', '.join(info['contributors'])\n",
    "info = pd.DataFrame(info, index = [str(info['id'])])"
   ]
  },
  {
   "cell_type": "markdown",
   "metadata": {
    "collapsed": true
   },
   "source": [
    "#### Load params"
   ]
  },
  {
   "cell_type": "code",
   "execution_count": 100,
   "metadata": {
    "collapsed": false
   },
   "outputs": [],
   "source": [
    "covariates = pd.DataFrame.from_csv(os.path.join(path,'data',sessionName,'params','covariates.csv'))\n",
    "covariates['timeStamp'] = range(len(covariates))\n",
    "covariates.set_index(['timeStamp'], inplace=True)\n",
    "covariates['timeStamp'] = range(len(covariates))\n",
    "pattern = re.compile('OL_.*L')\n",
    "indexL = covariates.trialType.str.match(pattern, as_indexer=True)\n",
    "covariates.corPos.loc[indexL] = 30 - covariates.corPos.loc[indexL]\n",
    "covariates['optoPos'] = np.convolve(covariates.laserPower, np.ones((100,))/2, mode='same')\n",
    "covariates.optoPos = (covariates.optoPos.max()-covariates.optoPos)/covariates.optoPos.max()*30"
   ]
  },
  {
   "cell_type": "markdown",
   "metadata": {},
   "source": [
    "####Load spikes"
   ]
  },
  {
   "cell_type": "code",
   "execution_count": 101,
   "metadata": {
    "collapsed": false
   },
   "outputs": [],
   "source": [
    "times = pd.DataFrame.from_csv(os.path.join(path,'data',sessionName,'spikes','times.csv'))\n",
    "waveforms = pd.DataFrame.from_csv(os.path.join(path,'data',sessionName,'spikes','waveforms.csv'))\n",
    "properties = pd.DataFrame.from_csv(os.path.join(path,'data',sessionName,'spikes','properties.csv'))\n",
    "times['spkAmp'] = waveforms['0.0']\n",
    "waveforms['sourceId'] = times['sourceId']"
   ]
  },
  {
   "cell_type": "markdown",
   "metadata": {},
   "source": [
    "## Create unit summary information"
   ]
  },
  {
   "cell_type": "markdown",
   "metadata": {},
   "source": [
    "#### Unit firing rate information"
   ]
  },
  {
   "cell_type": "code",
   "execution_count": 102,
   "metadata": {
    "collapsed": false
   },
   "outputs": [],
   "source": [
    "units = properties"
   ]
  },
  {
   "cell_type": "code",
   "execution_count": 103,
   "metadata": {
    "collapsed": false
   },
   "outputs": [],
   "source": [
    "numSpikes = times.groupby(['sourceId'], sort=True).count().trialNum.values\n",
    "units = units.join(pd.DataFrame({'numSpikes':numSpikes}))\n",
    "units = units.join(-times[['sourceId','spkAmp']].groupby(['sourceId'], sort=True).mean())"
   ]
  },
  {
   "cell_type": "code",
   "execution_count": 104,
   "metadata": {
    "collapsed": false
   },
   "outputs": [],
   "source": [
    "meanWaveform = waveforms.groupby('sourceId').mean()\n",
    "stdWaveform = waveforms.groupby('sourceId').std().mean(1)\n",
    "rangeWaveform = meanWaveform.max(1) - meanWaveform.min(1)\n",
    "waveformSNR = rangeWaveform.divide(stdWaveform)\n",
    "units = units.join(pd.DataFrame({'waveformSNR':waveformSNR.values}))"
   ]
  },
  {
   "cell_type": "code",
   "execution_count": 105,
   "metadata": {
    "collapsed": true
   },
   "outputs": [],
   "source": [
    "def getFiringRate(sourceId):\n",
    "    spkTimes = times[times.sourceId == sourceId]\n",
    "    spkCount = spkTimes.groupby(['trialNum']).count().iloc[:,0]\n",
    "    trialDuration = covariates.groupby(['trialNum']).count().iloc[:,0]\n",
    "    spkCount = spkCount.divide(trialDuration)*500\n",
    "    spkCount = spkCount.fillna(0)\n",
    "    return spkCount"
   ]
  },
  {
   "cell_type": "code",
   "execution_count": 106,
   "metadata": {
    "collapsed": false
   },
   "outputs": [],
   "source": [
    "def getSpkAmpDrift(sourceId):\n",
    "    spkAmp = times[times.sourceId == sourceId].groupby(['trialNum'])['spkAmp'].mean()\n",
    "    early = spkAmp[spkAmp.index < spkAmp.index[0] + len(spkAmp)/3].mean()\n",
    "    late = spkAmp[spkAmp.index > spkAmp.index[0] + 2*len(spkAmp)/3].mean()\n",
    "    drift = (early - late)/spkAmp.mean()*100\n",
    "    return drift"
   ]
  },
  {
   "cell_type": "code",
   "execution_count": 107,
   "metadata": {
    "collapsed": false
   },
   "outputs": [],
   "source": [
    "def getFiringDrift(sourceId):\n",
    "    spkCount = getFiringRate(sourceId)\n",
    "    early = spkCount[spkCount.index < spkCount.index[0] + len(spkCount)/3].mean()\n",
    "    late = spkCount[spkCount.index > spkCount.index[0] + 2*len(spkCount)/3].mean()\n",
    "    firingDrift = (early - late)/spkCount.mean()*100\n",
    "    return firingDrift"
   ]
  },
  {
   "cell_type": "code",
   "execution_count": 108,
   "metadata": {
    "collapsed": false
   },
   "outputs": [],
   "source": [
    "units = units.join(pd.DataFrame({'firingDrift':[getFiringDrift(x) for x in units.sourceId]}))\n",
    "units = units.join(pd.DataFrame({'spkAmpDrift':[getSpkAmpDrift(x) for x in units.sourceId]}))"
   ]
  },
  {
   "cell_type": "code",
   "execution_count": 109,
   "metadata": {
    "collapsed": false
   },
   "outputs": [
    {
     "data": {
      "image/png": "[encoded data removed]",
      "text/plain": [
       "<matplotlib.figure.Figure at 0x10b19cf90>"
      ]
     },
     "metadata": {},
     "output_type": "display_data"
    }
   ],
   "source": [
    "sourceId = 9\n",
    "spkCount = getFiringRate(sourceId)\n",
    "spkTimes = times[times.sourceId == sourceId]\n",
    "plt.plot(spkTimes.trialNum,-spkTimes.spkAmp,'.');\n",
    "plt.plot(spkCount.index.values,spkCount.values*20);\n",
    "sns.despine()"
   ]
  },
  {
   "cell_type": "markdown",
   "metadata": {},
   "source": [
    "#### Compute waveforms"
   ]
  },
  {
   "cell_type": "code",
   "execution_count": 110,
   "metadata": {
    "collapsed": true
   },
   "outputs": [],
   "source": [
    "def smoothfit(x, y, smooth=0, res=1000):\n",
    "    spl = UnivariateSpline(x, y)\n",
    "    spl.set_smoothing_factor(smooth)\n",
    "    xs = np.linspace(np.min(x), np.max(x), res)\n",
    "    return xs, spl(xs)"
   ]
  },
  {
   "cell_type": "code",
   "execution_count": 111,
   "metadata": {
    "collapsed": true
   },
   "outputs": [],
   "source": [
    "def getSpkWidth(sourceId):\n",
    "    xs, ys = smoothfit(meanWaveform.columns.astype('float').values, meanWaveform.loc[sourceId].values, smooth=100)\n",
    "    minLoc = ys.argmin()\n",
    "    spkWidth = ys[minLoc:].argmax()\n",
    "    spkWidth = xs[minLoc + spkWidth] - xs[minLoc]\n",
    "    spkWidth = spkWidth*1000\n",
    "    return spkWidth"
   ]
  },
  {
   "cell_type": "code",
   "execution_count": 112,
   "metadata": {
    "collapsed": false
   },
   "outputs": [],
   "source": [
    "units = units.join(pd.DataFrame({'spkWidth':[getSpkWidth(x) for x in units.sourceId]}))"
   ]
  },
  {
   "cell_type": "code",
   "execution_count": 113,
   "metadata": {
    "collapsed": true
   },
   "outputs": [],
   "source": [
    "def plotWaveform(sourceId):\n",
    "    xs, ys = smoothfit(meanWaveform.columns.astype('float').values, meanWaveform.loc[sourceId].values, smooth=100)\n",
    "    plt.plot(xs,ys);"
   ]
  },
  {
   "cell_type": "code",
   "execution_count": 114,
   "metadata": {
    "collapsed": true
   },
   "outputs": [],
   "source": [
    "def classifyCellType(SpikeWidth):\n",
    "    if SpikeWidth < 350:\n",
    "        label = 'FastSpiker'\n",
    "    elif SpikeWidth < 450:\n",
    "        label = 'IntermediateSpiker'\n",
    "    else:\n",
    "        label = 'RegularSpiker'\n",
    "    return label"
   ]
  },
  {
   "cell_type": "code",
   "execution_count": 115,
   "metadata": {
    "collapsed": false
   },
   "outputs": [],
   "source": [
    "units = units.join(pd.DataFrame({'cellType':units.spkWidth.apply(classifyCellType)}))"
   ]
  },
  {
   "cell_type": "markdown",
   "metadata": {},
   "source": [
    "#### Create ISI plot"
   ]
  },
  {
   "cell_type": "code",
   "execution_count": 116,
   "metadata": {
    "collapsed": true
   },
   "outputs": [],
   "source": [
    "def getSpikeISI(sourceId,threshFA):\n",
    "    spkDiff = times[times.sourceId == sourceId].spkTime.diff()\n",
    "    spkDiff[spkDiff<0] = np.NaN\n",
    "    rateFA = float(sum(spkDiff<threshFA))/spkDiff.count()*100\n",
    "    timesISI = np.linspace(0,.02,300)\n",
    "    ISI = np.histogram(spkDiff,timesISI)[0]\n",
    "    peakTimeISI = timesISI[ISI.argmax()]\n",
    "    timesISI = timesISI[:-1]\n",
    "    timesISI = np.concatenate((-np.fliplr([timesISI])[0],timesISI[1:]),axis = 1)\n",
    "    ISI = np.concatenate((np.fliplr([ISI])[0],ISI[1:]),axis = 1)\n",
    "    return timesISI, ISI, peakTimeISI, rateFA"
   ]
  },
  {
   "cell_type": "code",
   "execution_count": 117,
   "metadata": {
    "collapsed": true
   },
   "outputs": [],
   "source": [
    "threshFA = 0.0025"
   ]
  },
  {
   "cell_type": "code",
   "execution_count": 118,
   "metadata": {
    "collapsed": false
   },
   "outputs": [],
   "source": [
    "units = units.join(pd.DataFrame({'rateFA':[getSpikeISI(x,threshFA)[3] for x in units.sourceId]}))"
   ]
  },
  {
   "cell_type": "code",
   "execution_count": 119,
   "metadata": {
    "collapsed": true
   },
   "outputs": [],
   "source": [
    "units = units.join(pd.DataFrame({'peakTimeISI':[getSpikeISI(x,threshFA)[2] for x in units.sourceId]}))"
   ]
  },
  {
   "cell_type": "code",
   "execution_count": 120,
   "metadata": {
    "collapsed": false
   },
   "outputs": [],
   "source": [
    "ISI = pd.DataFrame([getSpikeISI(x,threshFA)[1] for x in units.sourceId])\n",
    "ISI.columns = getSpikeISI(0,threshFA)[0]"
   ]
  },
  {
   "cell_type": "markdown",
   "metadata": {},
   "source": [
    "## Process data"
   ]
  },
  {
   "cell_type": "markdown",
   "metadata": {},
   "source": [
    "#### Create trial summary"
   ]
  },
  {
   "cell_type": "code",
   "execution_count": 121,
   "metadata": {
    "collapsed": false
   },
   "outputs": [],
   "source": [
    "trialData = covariates[['trialType','trialNum']].groupby(['trialNum'], sort=True).first()\n",
    "trialData = trialData.join(covariates[['speed','trialNum','wallDistOL']].groupby(['trialNum'], sort=True).mean())\n",
    "trialData.sort('wallDistOL', inplace = True, ascending = True)"
   ]
  },
  {
   "cell_type": "markdown",
   "metadata": {},
   "source": [
    "#### Convert spike times inside trial to timeStamps of behavior data"
   ]
  },
  {
   "cell_type": "code",
   "execution_count": 122,
   "metadata": {
    "collapsed": false
   },
   "outputs": [],
   "source": [
    "trialStart = covariates[['timeStamp','trialNum']].groupby('trialNum').first()\n",
    "times['timeStamp'] = trialStart.timeStamp[times.trialNum].values + (500*times.spkTime).round()+500\n",
    "times['corPos'] = covariates.corPos.loc[times.timeStamp.values].values\n",
    "times['optoPos'] = covariates.optoPos.loc[times.timeStamp.values].values"
   ]
  },
  {
   "cell_type": "code",
   "execution_count": 123,
   "metadata": {
    "collapsed": true
   },
   "outputs": [],
   "source": [
    "def getSpikeTimeseries(sourceId):\n",
    "    data = times[(times['sourceId'] == sourceId) & (times['timeStamp'] < len(covariates))]\n",
    "    data = data.groupby('timeStamp').count()\n",
    "    timeSeries = np.zeros(len(covariates))\n",
    "    timeSeries[data.index.values.astype('int')] = data.trialNum\n",
    "    timeSeries[covariates['itiPeriod'].values.astype('bool')] = np.NaN\n",
    "    return timeSeries"
   ]
  },
  {
   "cell_type": "markdown",
   "metadata": {},
   "source": [
    "#### Define speed threshold"
   ]
  },
  {
   "cell_type": "code",
   "execution_count": 124,
   "metadata": {
    "collapsed": true
   },
   "outputs": [],
   "source": [
    "speedThresh = 3"
   ]
  },
  {
   "cell_type": "markdown",
   "metadata": {},
   "source": [
    "## Make Raster"
   ]
  },
  {
   "cell_type": "markdown",
   "metadata": {},
   "source": [
    "#### Make function which creates raster and overlay of covariate when given covariate name, sourceID, and list of trials"
   ]
  },
  {
   "cell_type": "code",
   "execution_count": 125,
   "metadata": {
    "collapsed": false
   },
   "outputs": [],
   "source": [
    "def getRaster(sourceId, trials, name):\n",
    "    data = covariates[name]\n",
    "    ephysData = times[times['sourceId'] == sourceId]\n",
    "    \n",
    "    lenTrial = 2001\n",
    "    dataMat = np.zeros((len(trials),lenTrial))\n",
    "    ind = 0\n",
    "    spkTrial = []\n",
    "    spkTime = []\n",
    "    spkCol = []\n",
    "    for iTrial in trials.index:\n",
    "        tmp = data[(covariates['trialNum'] == iTrial) & (covariates['itiPeriod'] == 0)]\n",
    "        if len(tmp) >= lenTrial:\n",
    "            dataMat[ind,:] = tmp[:lenTrial]\n",
    "        else:\n",
    "            dataMat[ind,:len(tmp)] = tmp\n",
    "            dataMat[ind,len(tmp):] = tmp[-1]\n",
    "        tmp = ephysData[ephysData['trialNum'] == iTrial]\n",
    "        spkTrial.extend(np.tile(ind,len(tmp.spkTime)))\n",
    "        spkTime.extend(tmp.spkTime*500)\n",
    "        spkCol.extend(tmp[name])\n",
    "        \n",
    "        ind = ind + 1\n",
    "    return dataMat, spkTime, spkTrial, spkCol"
   ]
  },
  {
   "cell_type": "code",
   "execution_count": 126,
   "metadata": {
    "collapsed": true
   },
   "outputs": [],
   "source": [
    "def plotRaster(mat, time, trial, col, pal):\n",
    "    #plt.imshow(mat, interpolation='none', aspect=5.0);\n",
    "    plt.scatter(time, trial, 25, linewidth=0, c=col, cmap=pal, vmin=0, vmax=30);\n",
    "    plt.xlim([0, 2000])\n",
    "    sns.despine();\n",
    "    plt.axis('off');\n",
    "    plt.ylim([0, max(trial)])\n",
    "    plt.gca().invert_yaxis();"
   ]
  },
  {
   "cell_type": "markdown",
   "metadata": {},
   "source": [
    "Select open loop contra wall trials where mouse was running"
   ]
  },
  {
   "cell_type": "code",
   "execution_count": 153,
   "metadata": {
    "collapsed": false
   },
   "outputs": [],
   "source": [
    "sourceId = 10"
   ]
  },
  {
   "cell_type": "code",
   "execution_count": 154,
   "metadata": {
    "collapsed": true
   },
   "outputs": [],
   "source": [
    "pattern = re.compile('OL_.*R|OL_out')\n",
    "indexOL = trialData.trialType.str.match(pattern, as_indexer=True)\n",
    "indexRun = trialData.speed > speedThresh\n",
    "trials = trialData[indexOL & indexRun]\n",
    "trials = trials.sort('wallDistOL', ascending=False)\n",
    "mat, time, trial, col = getRaster(sourceId, trials, 'corPos')"
   ]
  },
  {
   "cell_type": "code",
   "execution_count": 155,
   "metadata": {
    "collapsed": false
   },
   "outputs": [
    {
     "data": {
      "image/png": "[encoded data removed]",
      "text/plain": [
       "<matplotlib.figure.Figure at 0x10e191050>"
      ]
     },
     "metadata": {},
     "output_type": "display_data"
    }
   ],
   "source": [
    "fig = plt.figure(figsize=(6,3.5))\n",
    "plotRaster(mat, time, trial, col, colormap(0))\n",
    "#plt.savefig(os.path.join(path,'figuresEphys','Raster%s_%s_trials%s.eps' % (str(info['id'].values[0]), sourceId,len(trials))))"
   ]
  },
  {
   "cell_type": "code",
   "execution_count": 130,
   "metadata": {
    "collapsed": false
   },
   "outputs": [],
   "source": [
    "if info.ipsiAnm.values[0]:\n",
    "    pattern = re.compile('OL_.*L|OL_out')\n",
    "    indexOL = trialData.trialType.str.match(pattern, as_indexer=True)\n",
    "    indexRun = trialData.speed > speedThresh\n",
    "    trials = trialData[indexOL & indexRun]\n",
    "    trials = trials.sort('wallDistOL', ascending=False)\n",
    "    mat, time, trial, col = getRaster(sourceId, trials, 'corPos')\n",
    "    fig = plt.figure(figsize=(6,3.5))\n",
    "    plotRaster(mat, time, trial, col, colormap(0))"
   ]
  },
  {
   "cell_type": "code",
   "execution_count": 152,
   "metadata": {
    "collapsed": false
   },
   "outputs": [
    {
     "data": {
      "image/png": "[encoded data removed]",
      "text/plain": [
       "<matplotlib.figure.Figure at 0x10f610cd0>"
      ]
     },
     "metadata": {},
     "output_type": "display_data"
    }
   ],
   "source": [
    "if info.optoAnm.values[0]:\n",
    "    pattern = re.compile('STIM_.*|OL_out')\n",
    "    indexOL = trialData.trialType.str.match(pattern, as_indexer=True)\n",
    "    indexRun = trialData.speed > speedThresh\n",
    "    trials = trialData[indexOL & indexRun]\n",
    "    trials = trials.sort('trialType', ascending=True)\n",
    "    mat, time, trial, col = getRaster(sourceId, trials, 'optoPos')\n",
    "    fig = plt.figure(figsize=(6,3.5))\n",
    "    plotRaster(mat, time, trial, col, colormap(0))\n",
    "    #plt.savefig(os.path.join(path,'figuresEphys','RasterOpto%s_%s_trials%s.eps' % (str(info['id'].values[0]), sourceId,len(trials))))"
   ]
  },
  {
   "cell_type": "markdown",
   "metadata": {},
   "source": [
    "## Tuning curve analysis"
   ]
  },
  {
   "cell_type": "markdown",
   "metadata": {},
   "source": [
    "Tuning curve contains x values, mean, std, count of points, and ANOVA p value"
   ]
  },
  {
   "cell_type": "code",
   "execution_count": 132,
   "metadata": {
    "collapsed": false
   },
   "outputs": [],
   "source": [
    "def getTuning(df,T,X,Y,sourceId):\n",
    "    df = df.groupby([T,X]).mean()\n",
    "    df = df.reset_index().set_index(T)\n",
    "    g = [df[df[X] == x][Y].values for x in df[X].unique()]\n",
    "    f, p = f_oneway(*g)\n",
    "    s = df.groupby([X])\n",
    "    d = {'meanRate':s.mean()[Y].values,'stdRate':s.std()[Y].values,'numTrials':s.count().values[:,0]}\n",
    "    tuning = pd.DataFrame(d).T\n",
    "    tuning.columns = s.mean().index.values\n",
    "    tuning['sourceId'] = sourceId\n",
    "    tuning.reset_index(level=0, inplace=True)\n",
    "    tuning.set_index('sourceId', inplace=True)\n",
    "    tuning.rename(columns={'index':'label'}, inplace=True)\n",
    "    tuning.index.name = None\n",
    "    return tuning, p    "
   ]
  },
  {
   "cell_type": "code",
   "execution_count": 133,
   "metadata": {
    "collapsed": true
   },
   "outputs": [],
   "source": [
    "def getTuningEphys(sourceId,keepInd,name,scale):\n",
    "    covariates['spikes'] = getSpikeTimeseries(sourceId)*500\n",
    "    tmp = covariates[keepInd]\n",
    "    tmp = tmp[~tmp['itiPeriod'].values.astype(bool)]\n",
    "    tmp['bin'] = (tmp[name]/scale).round()*scale\n",
    "    df = tmp[['trialNum','bin','spikes']]    \n",
    "    tuning, p = getTuning(df,'trialNum','bin','spikes',sourceId)\n",
    "    return tuning, p"
   ]
  },
  {
   "cell_type": "markdown",
   "metadata": {},
   "source": [
    "####Compute tuning curve"
   ]
  },
  {
   "cell_type": "markdown",
   "metadata": {},
   "source": [
    "Select open loop contra wall trials where mouse was running"
   ]
  },
  {
   "cell_type": "code",
   "execution_count": 134,
   "metadata": {
    "collapsed": false
   },
   "outputs": [],
   "source": [
    "pattern = re.compile('OL_.*R|OL_out')\n",
    "indexOL = trialData.trialType.str.match(pattern, as_indexer=True)\n",
    "indexRun = trialData.speed > speedThresh\n",
    "trials = trialData[indexOL & indexRun]\n",
    "keepInd = [x in trials.index for x in covariates.trialNum.values]\n",
    "tuning = [getTuningEphys(x,keepInd,'corPos',3) for x in units.sourceId]\n",
    "units['pVal'] = [x[1] for x in tuning]\n",
    "tuning = pd.concat([x[0] for x in tuning])"
   ]
  },
  {
   "cell_type": "markdown",
   "metadata": {},
   "source": [
    "####Compute ipsilateral tuning curve"
   ]
  },
  {
   "cell_type": "markdown",
   "metadata": {},
   "source": [
    "Select open loop ipsi wall trials where mouse was running"
   ]
  },
  {
   "cell_type": "code",
   "execution_count": 135,
   "metadata": {
    "collapsed": false
   },
   "outputs": [],
   "source": [
    "if info.ipsiAnm.values[0]:\n",
    "    pattern = re.compile('OL_.*L|OL_out')\n",
    "    indexOL = trialData.trialType.str.match(pattern, as_indexer=True)\n",
    "    indexRun = trialData.speed > speedThresh\n",
    "    trials = trialData[indexOL & indexRun]\n",
    "    keepInd = [x in trials.index for x in covariates.trialNum.values]\n",
    "    tuningIpsi = [getTuningEphys(x,keepInd,'corPos',3) for x in units.sourceId]\n",
    "    units['pValIpsi'] = [x[1] for x in tuningIpsi]\n",
    "    tuningIpsi = pd.concat([x[0] for x in tuningIpsi])"
   ]
  },
  {
   "cell_type": "markdown",
   "metadata": {},
   "source": [
    "#### Compute closed loop tuning curve"
   ]
  },
  {
   "cell_type": "markdown",
   "metadata": {
    "collapsed": true
   },
   "source": [
    "Select closed loop time points when mouse was running"
   ]
  },
  {
   "cell_type": "code",
   "execution_count": 136,
   "metadata": {
    "collapsed": false
   },
   "outputs": [],
   "source": [
    "if info.clAnm.values[0]:\n",
    "    pattern = re.compile('CL_*')\n",
    "    indexCL = trialData.trialType.str.match(pattern, as_indexer=True)\n",
    "    indexRun = trialData.speed > speedThresh\n",
    "    trials = trialData[indexCL & indexRun]\n",
    "    keepInd = [x in trials.index for x in covariates.trialNum.values]\n",
    "    tuningCL = [getTuningEphys(x,keepInd,'corPos',3) for x in units.sourceId]\n",
    "    units['pValClosed'] = [x[1] for x in tuningCL]\n",
    "    tuningCL = pd.concat([x[0] for x in tuningCL])"
   ]
  },
  {
   "cell_type": "markdown",
   "metadata": {},
   "source": [
    "#### Compute optogenetic tuning curve to layer 4 activation"
   ]
  },
  {
   "cell_type": "markdown",
   "metadata": {},
   "source": [
    "Select trials with photostimulation where mouse was running"
   ]
  },
  {
   "cell_type": "code",
   "execution_count": 137,
   "metadata": {
    "collapsed": true
   },
   "outputs": [],
   "source": [
    "if info.optoAnm.values[0]:\n",
    "    pattern = re.compile('STIM_.*|OL_out')\n",
    "    indexOL = trialData.trialType.str.match(pattern, as_indexer=True)\n",
    "    indexRun = trialData.speed > speedThresh\n",
    "    trials = trialData[indexOL & indexRun]\n",
    "    keepInd = [x in trials.index for x in covariates.trialNum.values]\n",
    "    tuningOpto = [getTuningEphys(x,keepInd,'optoPos',3) for x in units.sourceId]\n",
    "    units['pValOpto'] = [x[1] for x in tuningOpto]\n",
    "    tuningOpto = pd.concat([x[0] for x in tuningOpto])"
   ]
  },
  {
   "cell_type": "code",
   "execution_count": 138,
   "metadata": {
    "collapsed": false
   },
   "outputs": [],
   "source": [
    "#from helper.plots import *\n",
    "#tuningOpto['sourceId'] = tuningOpto.index\n",
    "#tuningOpto.set_index(['sourceId', 'label'],inplace = True)\n",
    "#sourceId = 0\n",
    "#x = tuningOpto.columns.values\n",
    "#y = tuningOpto.loc[sourceId,'meanRate'].values\n",
    "#err = tuningOpto.loc[sourceId,'stdRate'].divide(tuningOpto.loc[sourceId,'stdRate'].apply(np.sqrt)).values\n",
    "#rng = tuning(x, y, err, smooth=1, ylabel='Spikes / s');"
   ]
  },
  {
   "cell_type": "markdown",
   "metadata": {},
   "source": [
    "##Compute wall direction curve"
   ]
  },
  {
   "cell_type": "code",
   "execution_count": 139,
   "metadata": {
    "collapsed": true
   },
   "outputs": [],
   "source": [
    "def getData(sourceId, trials, name):\n",
    "    if name == 'spikes':\n",
    "        covariates['spikes'] = getSpikeTimeseries(sourceId)\n",
    "    data = covariates[name]\n",
    "    lenTrial = 2001\n",
    "    dataMat = np.zeros((len(trials),lenTrial))\n",
    "    ind = 0\n",
    "    for iTrial in trials.index:\n",
    "        tmp = data[(covariates['trialNum'] == iTrial) & (covariates['itiPeriod'] == 0)]\n",
    "        if name == 'spikes':\n",
    "            tmp = np.convolve(tmp,np.ones(50)/50,mode = 'same')\n",
    "        if len(tmp) >= lenTrial:\n",
    "            dataMat[ind,:] = tmp[:lenTrial]\n",
    "        else:\n",
    "            dataMat[ind,:len(tmp)] = tmp\n",
    "            dataMat[ind,len(tmp):] = tmp[-1]\n",
    "        ind = ind + 1\n",
    "    return dataMat"
   ]
  },
  {
   "cell_type": "code",
   "execution_count": 140,
   "metadata": {
    "collapsed": false
   },
   "outputs": [],
   "source": [
    "def getProfile(sourceId,trials,stimMat):\n",
    "    dataMat = getData(sourceId,trials,'spikes')\n",
    "    profiles = np.full([len(stimMat), 1000],np.nan)\n",
    "    for iTrial in range(len(stimMat)):\n",
    "        crossings = np.where(stimMat[iTrial]<=16)[0]\n",
    "        if len(crossings)>0:\n",
    "            profiles[iTrial,:500] = dataMat[iTrial][crossings[0]-150:crossings[0]+350]\n",
    "            profiles[iTrial,500:] = dataMat[iTrial][crossings[-1]-350:crossings[-1]+150]\n",
    "    meanProfile = np.nanmean(profiles,axis = 0)*500\n",
    "    timeProfile = np.linspace(0,1.998,1000)\n",
    "    return meanProfile, timeProfile    "
   ]
  },
  {
   "cell_type": "markdown",
   "metadata": {},
   "source": [
    "Select open loop contra wall trials where mouse was running and wall was close"
   ]
  },
  {
   "cell_type": "code",
   "execution_count": 141,
   "metadata": {
    "collapsed": true
   },
   "outputs": [],
   "source": [
    "pattern = re.compile('OL_.*R|OL_out')\n",
    "indexOL = trialData.trialType.str.match(pattern, as_indexer=True)\n",
    "indexRun = trialData.speed > speedThresh\n",
    "indexWall = trialData.wallDistOL  <= 16\n",
    "trials = trialData[indexOL & indexRun & indexWall]\n",
    "stimMat = getData(0,trials,'corPos')"
   ]
  },
  {
   "cell_type": "code",
   "execution_count": 142,
   "metadata": {
    "collapsed": false
   },
   "outputs": [],
   "source": [
    "profile = pd.DataFrame([getProfile(x,trials,stimMat)[0] for x in units.sourceId])\n",
    "timeProfile = getProfile(0,trials,stimMat)[1]\n",
    "profile.columns = timeProfile"
   ]
  },
  {
   "cell_type": "markdown",
   "metadata": {},
   "source": [
    "## Save summary tables"
   ]
  },
  {
   "cell_type": "code",
   "execution_count": 143,
   "metadata": {
    "collapsed": true
   },
   "outputs": [],
   "source": [
    "units.to_csv(os.path.join(path,'data',sessionName,'tables','units.csv'))\n",
    "tuningOpto.to_csv(os.path.join(path,'data',sessionName,'tables','tuning-opto.csv'))    "
   ]
  },
  {
   "cell_type": "code",
   "execution_count": 144,
   "metadata": {
    "collapsed": false
   },
   "outputs": [],
   "source": [
    "if save:\n",
    "    units.to_csv(os.path.join(path,'data',sessionName,'tables','units.csv'))\n",
    "    ISI.to_csv(os.path.join(path,'data',sessionName,'tables','ISI.csv'))\n",
    "    meanWaveform.to_csv(os.path.join(path,'data',sessionName,'tables','waveforms.csv'))\n",
    "    profile.to_csv(os.path.join(path,'data',sessionName,'tables','profile.csv'))\n",
    "    tuning.to_csv(os.path.join(path,'data',sessionName,'tables','tuning.csv'))\n",
    "    if info.clAnm.values[0]:\n",
    "        tuningCL.to_csv(os.path.join(path,'data',sessionName,'tables','tuning-closed.csv'))\n",
    "    if info.ipsiAnm.values[0]:\n",
    "        tuningIpsi.to_csv(os.path.join(path,'data',sessionName,'tables','tuning-ipsi.csv'))\n",
    "    if info.optoAnm.values[0]:\n",
    "        tuningOpto.to_csv(os.path.join(path,'data',sessionName,'tables','tuning-opto.csv'))    "
   ]
  }
 ],
 "metadata": {
  "kernelspec": {
   "display_name": "Python 2",
   "language": "python",
   "name": "python2"
  },
  "language_info": {
   "codemirror_mode": {
    "name": "ipython",
    "version": 2
   },
   "file_extension": ".py",
   "mimetype": "text/x-python",
   "name": "python",
   "nbconvert_exporter": "python",
   "pygments_lexer": "ipython2",
   "version": "2.7.10"
  }
 },
 "nbformat": 4,
 "nbformat_minor": 0
}

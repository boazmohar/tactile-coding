{
 "cells": [
  {
   "cell_type": "markdown",
   "metadata": {},
   "source": [
    "# *svoboda lab / tactile navigation*"
   ]
  },
  {
   "cell_type": "markdown",
   "metadata": {},
   "source": [
    "## Setup evnironment"
   ]
  },
  {
   "cell_type": "code",
   "execution_count": 9,
   "metadata": {
    "collapsed": true
   },
   "outputs": [],
   "source": [
    "import os\n",
    "import numpy as np\n",
    "import pandas as pd\n",
    "import scipy.io as sio\n",
    "import json\n",
    "import re\n",
    "from scipy.stats import f_oneway\n",
    "from scipy.interpolate import UnivariateSpline\n",
    "from helper.plots import *\n",
    "save = True"
   ]
  },
  {
   "cell_type": "markdown",
   "metadata": {},
   "source": [
    "##### Setup thunder and lightning"
   ]
  },
  {
   "cell_type": "code",
   "execution_count": 4,
   "metadata": {
    "collapsed": false
   },
   "outputs": [],
   "source": [
    "from thunder import Registration\n",
    "from thunder import Series\n",
    "from thunder import LinearRegression\n",
    "from thunder import TuningModel\n",
    "from thunder import Source, SourceModel\n",
    "from thunder.extraction import BasicCleaner\n",
    "from thunder import Colorize\n",
    "image = Colorize.image"
   ]
  },
  {
   "cell_type": "markdown",
   "metadata": {},
   "source": [
    "## Setup plotting"
   ]
  },
  {
   "cell_type": "code",
   "execution_count": 5,
   "metadata": {
    "collapsed": false
   },
   "outputs": [],
   "source": [
    "import matplotlib.pyplot as plt\n",
    "from matplotlib.colors import ListedColormap\n",
    "from colorsys import hsv_to_rgb, rgb_to_hsv\n",
    "%matplotlib inline\n",
    "import seaborn as sns\n",
    "sns.set_context('paper', font_scale=2.0)\n",
    "sns.set_style('ticks')"
   ]
  },
  {
   "cell_type": "markdown",
   "metadata": {},
   "source": [
    "## Load raw data"
   ]
  },
  {
   "cell_type": "code",
   "execution_count": 6,
   "metadata": {
    "collapsed": true
   },
   "outputs": [],
   "source": [
    "path = 'https://s3.amazonaws.com/neuro.datasets/svoboda.lab/tactile.coding/'"
   ]
  },
  {
   "cell_type": "code",
   "execution_count": 7,
   "metadata": {
    "collapsed": true
   },
   "outputs": [],
   "source": [
    "iSession = 13\n",
    "session = '%02g' % iSession"
   ]
  },
  {
   "cell_type": "markdown",
   "metadata": {},
   "source": [
    "#### Load info"
   ]
  },
  {
   "cell_type": "code",
   "execution_count": null,
   "metadata": {
    "collapsed": false
   },
   "outputs": [],
   "source": [
    "r = requests.get(path + session + '/info.json').content\n",
    "info = json.loads(r)\n",
    "info['contributors'] = ', '.join(info['contributors'])\n",
    "info['dimensions'] = str(info['dimensions'])\n",
    "info = pd.DataFrame(info, index = [str(info['id'])])"
   ]
  },
  {
   "cell_type": "markdown",
   "metadata": {},
   "source": [
    "#### Load params"
   ]
  },
  {
   "cell_type": "code",
   "execution_count": 548,
   "metadata": {
    "collapsed": false
   },
   "outputs": [],
   "source": [
    "covariates = pd.DataFrame.from_csv(os.path.join(path,'data',session,'params','covariates.csv'))"
   ]
  },
  {
   "cell_type": "markdown",
   "metadata": {},
   "source": [
    "Summarize trial information"
   ]
  },
  {
   "cell_type": "code",
   "execution_count": 549,
   "metadata": {
    "collapsed": false
   },
   "outputs": [],
   "source": [
    "trialData = covariates[['trialType','trialNum']].groupby(['trialNum'], sort=True).first()\n",
    "trialData = trialData.join(covariates[['speed','trialNum','corPos']].groupby(['trialNum'], sort=True).mean())\n",
    "trialData.sort('trialType', inplace = True, ascending = False)"
   ]
  },
  {
   "cell_type": "code",
   "execution_count": 550,
   "metadata": {
    "collapsed": true
   },
   "outputs": [],
   "source": [
    "speedThresh = 3"
   ]
  },
  {
   "cell_type": "markdown",
   "metadata": {},
   "source": [
    "####Load images"
   ]
  },
  {
   "cell_type": "code",
   "execution_count": 551,
   "metadata": {
    "collapsed": false
   },
   "outputs": [],
   "source": [
    "refConf = tsc.loadJSON(os.path.join(path,'data',session,'reference','conf.json'))\n",
    "refConf['dims']\n",
    "if len(refConf['dims']) == 3:\n",
    "    nplanes = refConf['dims'][2]\n",
    "else:\n",
    "    nplanes = 1"
   ]
  },
  {
   "cell_type": "code",
   "execution_count": 552,
   "metadata": {
    "collapsed": true
   },
   "outputs": [],
   "source": [
    "images = tsc.loadImages(path + 'data/' + session + '/images', inputFormat='tif', nplanes=nplanes, renumber=True)"
   ]
  },
  {
   "cell_type": "markdown",
   "metadata": {
    "collapsed": true
   },
   "source": [
    "## Perform image registration"
   ]
  },
  {
   "cell_type": "markdown",
   "metadata": {},
   "source": [
    "Load reference"
   ]
  },
  {
   "cell_type": "code",
   "execution_count": 553,
   "metadata": {
    "collapsed": false
   },
   "outputs": [],
   "source": [
    "ref = tsc.loadImages(path + 'data/' + session + '/reference')"
   ]
  },
  {
   "cell_type": "markdown",
   "metadata": {},
   "source": [
    "Do registration"
   ]
  },
  {
   "cell_type": "code",
   "execution_count": 554,
   "metadata": {
    "collapsed": false
   },
   "outputs": [],
   "source": [
    "reg = Registration('planarcrosscorr')\n",
    "reg.prepare(ref[0])\n",
    "model = reg.fit(images)\n",
    "trans = model.toArray()"
   ]
  },
  {
   "cell_type": "markdown",
   "metadata": {},
   "source": [
    "Plot registration results"
   ]
  },
  {
   "cell_type": "code",
   "execution_count": 555,
   "metadata": {
    "collapsed": false
   },
   "outputs": [
    {
     "data": {
      "image/png": "[encoded data removed]",
      "text/plain": [
       "<matplotlib.figure.Figure at 0x6513890>"
      ]
     },
     "metadata": {},
     "output_type": "display_data"
    }
   ],
   "source": [
    "if nplanes > 1:\n",
    "    plt.plot(trans[:,0,0]);\n",
    "    plt.plot(trans[:,0,1]);\n",
    "else:\n",
    "    plt.plot(trans[:,0,0]);\n",
    "    plt.plot(trans[:,0,1]);"
   ]
  },
  {
   "cell_type": "markdown",
   "metadata": {},
   "source": [
    "Shift data and take mean"
   ]
  },
  {
   "cell_type": "code",
   "execution_count": 556,
   "metadata": {
    "collapsed": true
   },
   "outputs": [],
   "source": [
    "images = model.transform(images)\n",
    "images.cache()\n",
    "images.count();\n",
    "mean = images.mean()"
   ]
  },
  {
   "cell_type": "markdown",
   "metadata": {},
   "source": [
    "## Make local correlation"
   ]
  },
  {
   "cell_type": "code",
   "execution_count": 557,
   "metadata": {
    "collapsed": true
   },
   "outputs": [],
   "source": [
    "localCorr = images.localCorr(5)        "
   ]
  },
  {
   "cell_type": "markdown",
   "metadata": {},
   "source": [
    "## Convert to series"
   ]
  },
  {
   "cell_type": "code",
   "execution_count": 558,
   "metadata": {
    "collapsed": true
   },
   "outputs": [],
   "source": [
    "series = images.toTimeSeries().squelch(50).normalize('mean')\n",
    "series.cache()\n",
    "series.count();"
   ]
  },
  {
   "cell_type": "markdown",
   "metadata": {},
   "source": [
    "## Peform pixelwise regression"
   ]
  },
  {
   "cell_type": "code",
   "execution_count": 560,
   "metadata": {
    "collapsed": true
   },
   "outputs": [],
   "source": [
    "def buildReg(X,scale):\n",
    "    maxVal = np.floor(max(X)/scale)*scale\n",
    "    minVal = np.ceil(min(X)/scale)*scale\n",
    "    edges = np.arange(minVal,maxVal,scale)\n",
    "    edges = np.concatenate((edges, [np.Inf]))\n",
    "    regMat = np.zeros([edges.shape[0]-1,X.shape[0]])\n",
    "    for iEdge in range(0, edges.shape[0]-1):\n",
    "        regMat[iEdge,:] = (X >= edges[iEdge]) & (X < edges[iEdge+1])\n",
    "    edges = edges[:-1]\n",
    "    return edges, regMat"
   ]
  },
  {
   "cell_type": "code",
   "execution_count": 561,
   "metadata": {
    "collapsed": false
   },
   "outputs": [],
   "source": [
    "regressorName = 'corPos'\n",
    "pattern = re.compile('OL_.*R|OL_out')\n",
    "indexOL = covariates.trialType.str.match(pattern, as_indexer=True)\n",
    "mask = (covariates.itiPeriod == 0) & indexOL & (covariates.speed > speedThresh)\n",
    "edges, regMat = buildReg(covariates[regressorName][mask==True].values,3)\n",
    "results = LinearRegression('ordinary', intercept=False).fit(regMat.T, series.applyValues(lambda v: v[mask.values==True]))\n",
    "betas = results.coeffs\n",
    "rsq = results.stats.pack()\n",
    "t = TuningModel.load(edges,'gaussian')\n",
    "tune = t.fit(betas).select('center').pack()"
   ]
  },
  {
   "cell_type": "markdown",
   "metadata": {},
   "source": [
    "## Extract source timeseries"
   ]
  },
  {
   "cell_type": "markdown",
   "metadata": {},
   "source": [
    "Load sources"
   ]
  },
  {
   "cell_type": "code",
   "execution_count": 562,
   "metadata": {
    "collapsed": false
   },
   "outputs": [],
   "source": [
    "sources = tsc.loadSources(path + 'data/' + session + '/sources/sources.json')"
   ]
  },
  {
   "cell_type": "markdown",
   "metadata": {},
   "source": [
    "Generate source timeseries"
   ]
  },
  {
   "cell_type": "code",
   "execution_count": 563,
   "metadata": {
    "collapsed": false
   },
   "outputs": [],
   "source": [
    "tsRoiRaw = sources.transform(images, collect = False)"
   ]
  },
  {
   "cell_type": "markdown",
   "metadata": {},
   "source": [
    "Calculate neuropil signal by first generating source outline"
   ]
  },
  {
   "cell_type": "code",
   "execution_count": 564,
   "metadata": {
    "collapsed": true
   },
   "outputs": [],
   "source": [
    "outline = []\n",
    "for iplane in range(1,4):\n",
    "    index = np.where([x[2] == iplane for x in sources.centers])[0]\n",
    "    sourcesPlane = SourceModel([np.asarray(sources[s].coordinates)[:,0:2].tolist() for s in index])\n",
    "    sourcesPlane = sourcesPlane.outline(2,5).crop([0,0],[512,512])\n",
    "    new = [[l+[iplane] for l in x] for x in sourcesPlane.coordinates]\n",
    "    outline = outline + new\n",
    "sourcesOutline = SourceModel(outline)"
   ]
  },
  {
   "cell_type": "code",
   "execution_count": 565,
   "metadata": {
    "collapsed": true
   },
   "outputs": [],
   "source": [
    "tsRoiOutlineRaw = sourcesOutline.transform(images, collect = False)"
   ]
  },
  {
   "cell_type": "markdown",
   "metadata": {},
   "source": [
    "Convert to dff space and perform neuropil subtraction"
   ]
  },
  {
   "cell_type": "markdown",
   "metadata": {},
   "source": [
    "Normalize and convert to table"
   ]
  },
  {
   "cell_type": "code",
   "execution_count": 566,
   "metadata": {
    "collapsed": false
   },
   "outputs": [],
   "source": [
    "tsRoi = tsRoiRaw.toTimeSeries()\n",
    "tsRoi = tsRoi.normalize('window-fast',1260)\n",
    "tsRoi.cache();\n",
    "timeseriesRaw = pd.DataFrame(np.array(tsRoi.values().collect()))\n",
    "timeseriesRaw.index.name = 'sourceId'"
   ]
  },
  {
   "cell_type": "code",
   "execution_count": 567,
   "metadata": {
    "collapsed": false
   },
   "outputs": [],
   "source": [
    "tsRoiNeuropil = tsRoiOutlineRaw.toTimeSeries()\n",
    "tsRoiNeuropil = tsRoiNeuropil.normalize('window-fast',1260)\n",
    "tsRoiNeuropil.cache();\n",
    "timeseriesNeuropil = pd.DataFrame(np.array(tsRoiNeuropil.values().collect()))\n",
    "timeseriesNeuropil.index.name = 'sourceId'"
   ]
  },
  {
   "cell_type": "code",
   "execution_count": 568,
   "metadata": {
    "collapsed": false
   },
   "outputs": [],
   "source": [
    "timeseries = timeseriesRaw - timeseriesNeuropil"
   ]
  },
  {
   "cell_type": "markdown",
   "metadata": {
    "collapsed": true
   },
   "source": [
    "#Plot maps"
   ]
  },
  {
   "cell_type": "markdown",
   "metadata": {},
   "source": [
    "Select plane"
   ]
  },
  {
   "cell_type": "code",
   "execution_count": null,
   "metadata": {
    "collapsed": true
   },
   "outputs": [],
   "source": [
    "iplane = 2"
   ]
  },
  {
   "cell_type": "markdown",
   "metadata": {},
   "source": [
    "#### Plot pixelwise regression map"
   ]
  },
  {
   "cell_type": "code",
   "execution_count": 10,
   "metadata": {
    "collapsed": true
   },
   "outputs": [],
   "source": [
    "pal = colormap(0)\n",
    "colorbar(pal)"
   ]
  },
  {
   "cell_type": "code",
   "execution_count": null,
   "metadata": {
    "collapsed": false
   },
   "outputs": [],
   "source": [
    "c = Colorize(cmap=pal, scale=1, vmin=0, vmax=25)\n",
    "img = c.transform(tune,background=mean.clip(min=0, max=300),mask=np.sqrt(rsq).clip(min=0.05,max=0.6),mixing=.3)\n",
    "image(img[:,:,iplane])"
   ]
  },
  {
   "cell_type": "markdown",
   "metadata": {},
   "source": [
    "#### Plot sources"
   ]
  },
  {
   "cell_type": "code",
   "execution_count": null,
   "metadata": {
    "collapsed": true
   },
   "outputs": [],
   "source": [
    "index = np.where([x[2] == iplane for x in sources.centers])[0]\n",
    "sourcesPlane = SourceModel([np.asarray(sources[s].coordinates)[:,0:2].tolist() for s in index])\n",
    "img = sourcesPlane.masks(mean.shape[0:2], color='red', base=mean[:,:,iplane].clip(0,500))\n",
    "image(img)\n",
    "for s in range(sourcesPlane.count):\n",
    "    plt.annotate(s=str(index[s]), xy=sourcesPlane[s].center[[1,0]], color='w');"
   ]
  },
  {
   "cell_type": "code",
   "execution_count": null,
   "metadata": {
    "collapsed": true
   },
   "outputs": [],
   "source": [
    "index = [160, 150, 159]\n",
    "sourcesPlane = SourceModel([np.asarray(sources[s].coordinates)[:,0:2].tolist() for s in index])\n",
    "img = sourcesPlane.masks(mean.shape[0:2], color='red', outline=False, base=mean[:,:,iplane].clip(0,500))\n",
    "image(img)"
   ]
  }
 ],
 "metadata": {
  "kernelspec": {
   "display_name": "Python 2",
   "language": "python",
   "name": "python2"
  },
  "language_info": {
   "codemirror_mode": {
    "name": "ipython",
    "version": 2
   },
   "file_extension": ".py",
   "mimetype": "text/x-python",
   "name": "python",
   "nbconvert_exporter": "python",
   "pygments_lexer": "ipython2",
   "version": "2.7.10"
  }
 },
 "nbformat": 4,
 "nbformat_minor": 0
}

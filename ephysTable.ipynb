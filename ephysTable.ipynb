{
 "cells": [
  {
   "cell_type": "markdown",
   "metadata": {},
   "source": [
    "# Neural coding in barrel cortex during whisker-guided locomotion"
   ]
  },
  {
   "cell_type": "markdown",
   "metadata": {},
   "source": [
    "###Analysis of tabluar data from ephys experiments"
   ]
  },
  {
   "cell_type": "markdown",
   "metadata": {},
   "source": [
    "This notebook loads and plots and tables derived from the electrophysiology data found in Sofroniew\\*, Vlasov\\*, et al. (submitted) and will reproduce figure 4 panels d-i, figure 5 b-e, figure S2 c-i, figure S3, S4, S5."
   ]
  },
  {
   "cell_type": "markdown",
   "metadata": {},
   "source": [
    "## Setup evnironment"
   ]
  },
  {
   "cell_type": "code",
   "execution_count": 1,
   "metadata": {
    "collapsed": false
   },
   "outputs": [],
   "source": [
    "import os\n",
    "import numpy as np\n",
    "import pandas as pd\n",
    "import json\n",
    "import requests\n",
    "from scipy import stats"
   ]
  },
  {
   "cell_type": "markdown",
   "metadata": {},
   "source": [
    "## Setup plotting"
   ]
  },
  {
   "cell_type": "code",
   "execution_count": 2,
   "metadata": {
    "collapsed": false
   },
   "outputs": [],
   "source": [
    "import matplotlib.pyplot as plt\n",
    "%matplotlib inline\n",
    "import seaborn as sns\n",
    "sns.set_context('paper', font_scale=2.0)\n",
    "sns.set_style('ticks')\n",
    "from helper.plots import *"
   ]
  },
  {
   "cell_type": "markdown",
   "metadata": {},
   "source": [
    "####Widgets"
   ]
  },
  {
   "cell_type": "code",
   "execution_count": 3,
   "metadata": {
    "collapsed": false
   },
   "outputs": [
    {
     "name": "stderr",
     "output_type": "stream",
     "text": [
      ":0: FutureWarning: IPython widgets are experimental and may change in the future.\n"
     ]
    }
   ],
   "source": [
    "from IPython.html import widgets\n",
    "from IPython.display import display\n",
    "from IPython.html.widgets import interactive\n",
    "from IPython.html.widgets import interact"
   ]
  },
  {
   "cell_type": "code",
   "execution_count": 4,
   "metadata": {
    "collapsed": true
   },
   "outputs": [],
   "source": [
    "def listSources(animal):\n",
    "    sourcesList = table.index.tolist()\n",
    "    sources.options = ['%.0f' % x[1] for x in sourcesList if x[0] == animal]"
   ]
  },
  {
   "cell_type": "markdown",
   "metadata": {},
   "source": [
    "## Helper functions for loading and processing data"
   ]
  },
  {
   "cell_type": "markdown",
   "metadata": {},
   "source": [
    "This helper function is using during loading to align tables to a primary key"
   ]
  },
  {
   "cell_type": "code",
   "execution_count": 5,
   "metadata": {
    "collapsed": true
   },
   "outputs": [],
   "source": [
    "def align(table, primary, index):\n",
    "    table['sourceId'] = primary['sourceId']\n",
    "    table.set_index(index,inplace = True)\n",
    "    table.columns = table.columns.astype('float')\n",
    "    return table"
   ]
  },
  {
   "cell_type": "markdown",
   "metadata": {},
   "source": [
    "This helper function loads mutliple tables from a session into a dictionary where the keys are table names"
   ]
  },
  {
   "cell_type": "code",
   "execution_count": 6,
   "metadata": {
    "collapsed": false
   },
   "outputs": [],
   "source": [
    "def load(session, tables):\n",
    "    # load the info\n",
    "    r = requests.get(path + session + '/info.json').content\n",
    "    info = json.loads(r)\n",
    "        \n",
    "    # load the units (which have our primary keys)\n",
    "    units = pd.DataFrame.from_csv(path + session + '/tables/units.csv')\n",
    "    \n",
    "    # load all the tables\n",
    "    d = {n : pd.DataFrame.from_csv(path + session + '/tables/%s.csv' % n) for n in tables}\n",
    "    \n",
    "    # align the tables (specify each manually because different tables use different keys)\n",
    "    d['waveforms'] = align(d['waveforms'], units, 'sourceId')\n",
    "    d['profile'] = align(d['profile'], units, 'sourceId')\n",
    "    xs, ys = smoothfit(d['profile'].columns.values, d['profile'].values[0],smooth=smooth, res=1000)\n",
    "    smoothed = [smoothfit(d['profile'].columns.values, y, smooth=smooth,res=1000)[1] for y in d['profile'].values]\n",
    "    d['profile'] = pd.DataFrame(smoothed, index=d['profile'].index, columns=xs)\n",
    "\n",
    "    d['tuning'] = align(d['tuning'], units, ['sourceId', 'label'])\n",
    "    d['tuningNum'] = d['tuning'].xs('numTrials', level='label')\n",
    "    err = d['tuning'].xs('stdRate', level='label').divide(d['tuningNum'].apply(np.sqrt))\n",
    "    d['tuning'] = d['tuning'].xs('meanRate', level='label')\n",
    "    d['tuningErr'] = err\n",
    "    d['tuningSummary'] = summarizeTuning(d['tuning'],-1)\n",
    "    d['ISI'] = align(d['ISI'], units, 'sourceId')\n",
    "    d['profileSummary'] = summarizeProfile(d['profile'])\n",
    "    \n",
    "    d['tuningSpeed'] = pd.DataFrame.from_csv(path + session + '/tables/tuning-speed.csv')\n",
    "    d['tuningSpeed'] = align(d['tuningSpeed'], units, ['sourceId', 'label'])\n",
    "    d['tuningSpeedNum'] = d['tuningSpeed'].xs('numTrials', level='label')\n",
    "    err = d['tuningSpeed'].xs('stdRate', level='label').divide(d['tuningSpeedNum'].apply(np.sqrt))\n",
    "    d['tuningSpeed'] = d['tuningSpeed'].xs('meanRate', level='label')\n",
    "    d['tuningSpeedErr'] = err\n",
    "    d['tuningSpeedSummary'] = summarizeTuning(d['tuningSpeed'],0)\n",
    "    \n",
    "    if info['clAnm']:\n",
    "        d['tuningClosed'] = pd.DataFrame.from_csv(path + session + '/tables/tuning-closed.csv')\n",
    "        d['tuningClosed'] = align(d['tuningClosed'], units, ['sourceId', 'label'])\n",
    "        d['tuningClosedNum'] = d['tuningClosed'].xs('numTrials', level='label')\n",
    "        err = d['tuningClosed'].xs('stdRate', level='label').divide(d['tuningClosedNum'].apply(np.sqrt))\n",
    "        d['tuningClosed'] = d['tuningClosed'].xs('meanRate', level='label')\n",
    "        d['tuningClosedErr'] = err\n",
    "        d['tuningClosedSummary'] = summarizeTuning(d['tuningClosed'],-1)\n",
    "    if info['ipsiAnm']:\n",
    "        d['tuningIpsi'] = pd.DataFrame.from_csv(path + session + '/tables/tuning-ipsi.csv')\n",
    "        d['tuningIpsi'] = align(d['tuningIpsi'], units, ['sourceId', 'label'])\n",
    "        d['tuningIpsiNum'] = d['tuningIpsi'].xs('numTrials', level='label')\n",
    "        err = d['tuningIpsi'].xs('stdRate', level='label').divide(d['tuningIpsiNum'].apply(np.sqrt))\n",
    "        d['tuningIpsi'] = d['tuningIpsi'].xs('meanRate', level='label')\n",
    "        d['tuningIpsiErr'] = err\n",
    "        d['tuningIpsiSummary'] = summarizeTuning(d['tuningIpsi'],-1)\n",
    "\n",
    "    # assign the index\n",
    "    units.set_index('sourceId',inplace = True)\n",
    "    \n",
    "    # classify units\n",
    "    units['clean'] = classifyUnits(units)\n",
    "    \n",
    "    # add tables\n",
    "    d['units'] = units\n",
    "    d = pd.concat([d[x] for x in d.keys()], axis = 1, keys = d.keys())\n",
    "    \n",
    "    info['contributors'] = ', '.join(info['contributors'])\n",
    "    info['session'] = session\n",
    "    info = pd.DataFrame(info, index = [str(info['id'])])\n",
    "    \n",
    "    #d['info'] = info\n",
    "    return d, info"
   ]
  },
  {
   "cell_type": "markdown",
   "metadata": {},
   "source": [
    "#### Append position tuning information to units data frame"
   ]
  },
  {
   "cell_type": "code",
   "execution_count": 7,
   "metadata": {
    "collapsed": false
   },
   "outputs": [],
   "source": [
    "def summarizeTuning(df,index):\n",
    "    x = df.columns.values\n",
    "    xs, ys = smoothfit(x, df.values[0],smooth=smooth)\n",
    "    smoothed = [smoothfit(x, y, smooth=smooth)[1] for y in df.values]\n",
    "\n",
    "    summary = pd.DataFrame(index=df.index)\n",
    "    summary['Baseline'] = [y[index] for y in smoothed]\n",
    "    summary['Max'] = [max(y) for y in smoothed]\n",
    "    summary['ArgMax'] = [xs[np.argmax(y)] for y in smoothed]\n",
    "    summary['Min'] = [min(y) for y in smoothed]\n",
    "    summary['ArgMin'] = [xs[np.argmin(y)] for y in smoothed]\n",
    "    summary['Mean'] = [np.mean(y) for y in smoothed]\n",
    "\n",
    "    summary['Activation'] = summary.Max - summary.Baseline\n",
    "    summary['Supression'] = summary.Baseline - summary.Min\n",
    "    summary['Range'] = summary.Max - summary.Min\n",
    "    \n",
    "    #summary['ModulationOn'] = (summary.Max - summary.Baseline)/(summary.Baseline + summary.Max)\n",
    "    #summary['ModulationOff'] = (summary.Min - summary.Baseline)/(summary.Baseline + summary.Min)\n",
    "    #summary['Modulation'] = summary['ModulationOn']\n",
    "    #summary['Modulation'][summary['Activation']<=summary['Supression']] = summary['ModulationOff'][summary['Activation']<=summary['Supression']]\n",
    "    #summary['Simplicity'] = (summary.Activation - summary.Supression)/(summary.Activation + summary.Supression)\n",
    "    summary['Modulation'] = (summary.Activation - summary.Supression)/(summary.Activation + summary.Supression)\n",
    "    \n",
    "    summary['TotalModulation'] = (summary.Max - summary.Min)/(summary.Max + summary.Min)\n",
    "    return summary"
   ]
  },
  {
   "cell_type": "markdown",
   "metadata": {},
   "source": [
    "#### Append direction tuning information to units data frame"
   ]
  },
  {
   "cell_type": "code",
   "execution_count": 8,
   "metadata": {
    "collapsed": false
   },
   "outputs": [],
   "source": [
    "def summarizeProfile(df):\n",
    "    x = df.columns.values\n",
    "    summary = pd.DataFrame(index=df.index)\n",
    "    summary['TowardsMod'] = [max(y[:500])-min(y[:500]) for y in df.values]\n",
    "    summary['AwayMod'] = [max(y[-500:])-min(y[-500:]) for y in df.values]\n",
    "    summary['Modulation'] = (summary.TowardsMod - summary.AwayMod)/(summary.TowardsMod + summary.AwayMod)\n",
    "\n",
    "    summary['Max'] = [max(y) for y in df.values]\n",
    "    summary['ArgMax'] = [x[np.argmax(y)] for y in df.values]\n",
    "    summary['ArgMaxTowards'] = [x[np.argmax(y[:500])] for y in df.values]\n",
    "    return summary"
   ]
  },
  {
   "cell_type": "markdown",
   "metadata": {},
   "source": [
    "#### Classify units as clean or not"
   ]
  },
  {
   "cell_type": "code",
   "execution_count": 9,
   "metadata": {
    "collapsed": true
   },
   "outputs": [],
   "source": [
    "def classifyUnits(df):\n",
    "    goodWaveformSNR = df.waveformSNR > 6\n",
    "    goodISI = df.rateFA  < 1.5\n",
    "    goodStability = (df.spkAmpDrift.abs() < 150) & (df.firingDrift.abs() < 175)\n",
    "    clean = goodWaveformSNR & goodISI & goodStability\n",
    "    return clean"
   ]
  },
  {
   "cell_type": "markdown",
   "metadata": {},
   "source": [
    "#### Normalize spike waveforms"
   ]
  },
  {
   "cell_type": "code",
   "execution_count": 10,
   "metadata": {
    "collapsed": false
   },
   "outputs": [],
   "source": [
    "def normalize(waves):\n",
    "    wavesNorm = [np.divide(x - np.mean(x),np.std(x)) for x in waves]\n",
    "    return wavesNorm"
   ]
  },
  {
   "cell_type": "markdown",
   "metadata": {},
   "source": [
    "#### Define smooth parameter"
   ]
  },
  {
   "cell_type": "code",
   "execution_count": 11,
   "metadata": {
    "collapsed": true
   },
   "outputs": [],
   "source": [
    "smooth = 1"
   ]
  },
  {
   "cell_type": "markdown",
   "metadata": {},
   "source": [
    "## Create helper functions for plotting "
   ]
  },
  {
   "cell_type": "markdown",
   "metadata": {},
   "source": [
    "Define colors"
   ]
  },
  {
   "cell_type": "code",
   "execution_count": 12,
   "metadata": {
    "collapsed": true
   },
   "outputs": [],
   "source": [
    "fs = [.95, .63, .77]\n",
    "frs = [.3, .3, .3]\n",
    "rs = [.56, .45, .70]"
   ]
  },
  {
   "cell_type": "markdown",
   "metadata": {},
   "source": [
    "## Load JSON + CSV as DataFrames"
   ]
  },
  {
   "cell_type": "markdown",
   "metadata": {},
   "source": [
    "#### Specify location of the data"
   ]
  },
  {
   "cell_type": "code",
   "execution_count": 13,
   "metadata": {
    "collapsed": false
   },
   "outputs": [],
   "source": [
    "path = 'https://s3.amazonaws.com/neuro.datasets/svoboda.lab/tactile.coding/'"
   ]
  },
  {
   "cell_type": "markdown",
   "metadata": {},
   "source": [
    "#### Load the tables from each session"
   ]
  },
  {
   "cell_type": "code",
   "execution_count": 14,
   "metadata": {
    "collapsed": false
   },
   "outputs": [
    {
     "ename": "HTTPError",
     "evalue": "HTTP Error 404: Not Found",
     "output_type": "error",
     "traceback": [
      "\u001b[0;31m---------------------------------------------------------------------------\u001b[0m",
      "\u001b[0;31mHTTPError\u001b[0m                                 Traceback (most recent call last)",
      "\u001b[0;32m<ipython-input-14-333f948e7de0>\u001b[0m in \u001b[0;36m<module>\u001b[0;34m()\u001b[0m\n\u001b[1;32m      1\u001b[0m \u001b[0msessions\u001b[0m \u001b[0;34m=\u001b[0m \u001b[0mrange\u001b[0m\u001b[0;34m(\u001b[0m\u001b[0;36m0\u001b[0m\u001b[0;34m,\u001b[0m\u001b[0;36m13\u001b[0m\u001b[0;34m)\u001b[0m\u001b[0;34m\u001b[0m\u001b[0m\n\u001b[1;32m      2\u001b[0m \u001b[0mtables\u001b[0m \u001b[0;34m=\u001b[0m \u001b[0;34m[\u001b[0m\u001b[0;34m'units'\u001b[0m\u001b[0;34m,\u001b[0m \u001b[0;34m'ISI'\u001b[0m\u001b[0;34m,\u001b[0m \u001b[0;34m'waveforms'\u001b[0m\u001b[0;34m,\u001b[0m \u001b[0;34m'tuning'\u001b[0m\u001b[0;34m,\u001b[0m \u001b[0;34m'profile'\u001b[0m\u001b[0;34m]\u001b[0m\u001b[0;34m\u001b[0m\u001b[0m\n\u001b[0;32m----> 3\u001b[0;31m \u001b[0mdata\u001b[0m \u001b[0;34m=\u001b[0m \u001b[0;34m[\u001b[0m\u001b[0mload\u001b[0m\u001b[0;34m(\u001b[0m\u001b[0;34m'%02g'\u001b[0m \u001b[0;34m%\u001b[0m \u001b[0ms\u001b[0m\u001b[0;34m,\u001b[0m \u001b[0mtables\u001b[0m\u001b[0;34m)\u001b[0m \u001b[0;32mfor\u001b[0m \u001b[0ms\u001b[0m \u001b[0;32min\u001b[0m \u001b[0msessions\u001b[0m\u001b[0;34m]\u001b[0m\u001b[0;34m\u001b[0m\u001b[0m\n\u001b[0m\u001b[1;32m      4\u001b[0m \u001b[0mtable\u001b[0m \u001b[0;34m=\u001b[0m  \u001b[0mpd\u001b[0m\u001b[0;34m.\u001b[0m\u001b[0mconcat\u001b[0m\u001b[0;34m(\u001b[0m\u001b[0;34m[\u001b[0m\u001b[0mx\u001b[0m\u001b[0;34m[\u001b[0m\u001b[0;36m0\u001b[0m\u001b[0;34m]\u001b[0m \u001b[0;32mfor\u001b[0m \u001b[0mx\u001b[0m \u001b[0;32min\u001b[0m \u001b[0mdata\u001b[0m\u001b[0;34m]\u001b[0m\u001b[0;34m,\u001b[0m \u001b[0mkeys\u001b[0m\u001b[0;34m=\u001b[0m\u001b[0;34m[\u001b[0m\u001b[0mstr\u001b[0m\u001b[0;34m(\u001b[0m\u001b[0mx\u001b[0m\u001b[0;34m[\u001b[0m\u001b[0;36m1\u001b[0m\u001b[0;34m]\u001b[0m\u001b[0;34m.\u001b[0m\u001b[0mindex\u001b[0m\u001b[0;34m[\u001b[0m\u001b[0;36m0\u001b[0m\u001b[0;34m]\u001b[0m\u001b[0;34m)\u001b[0m \u001b[0;32mfor\u001b[0m \u001b[0mx\u001b[0m \u001b[0;32min\u001b[0m \u001b[0mdata\u001b[0m\u001b[0;34m]\u001b[0m\u001b[0;34m,\u001b[0m \u001b[0mnames\u001b[0m\u001b[0;34m=\u001b[0m\u001b[0;34m[\u001b[0m\u001b[0;34m'anmId'\u001b[0m\u001b[0;34m]\u001b[0m\u001b[0;34m)\u001b[0m\u001b[0;34m\u001b[0m\u001b[0m\n\u001b[1;32m      5\u001b[0m \u001b[0minfo\u001b[0m \u001b[0;34m=\u001b[0m  \u001b[0mpd\u001b[0m\u001b[0;34m.\u001b[0m\u001b[0mconcat\u001b[0m\u001b[0;34m(\u001b[0m\u001b[0;34m[\u001b[0m\u001b[0mx\u001b[0m\u001b[0;34m[\u001b[0m\u001b[0;36m1\u001b[0m\u001b[0;34m]\u001b[0m \u001b[0;32mfor\u001b[0m \u001b[0mx\u001b[0m \u001b[0;32min\u001b[0m \u001b[0mdata\u001b[0m\u001b[0;34m]\u001b[0m\u001b[0;34m)\u001b[0m\u001b[0;34m\u001b[0m\u001b[0m\n",
      "\u001b[0;32m<ipython-input-6-1296675ee7aa>\u001b[0m in \u001b[0;36mload\u001b[0;34m(session, tables)\u001b[0m\n\u001b[1;32m     26\u001b[0m     \u001b[0md\u001b[0m\u001b[0;34m[\u001b[0m\u001b[0;34m'profileSummary'\u001b[0m\u001b[0;34m]\u001b[0m \u001b[0;34m=\u001b[0m \u001b[0msummarizeProfile\u001b[0m\u001b[0;34m(\u001b[0m\u001b[0md\u001b[0m\u001b[0;34m[\u001b[0m\u001b[0;34m'profile'\u001b[0m\u001b[0;34m]\u001b[0m\u001b[0;34m)\u001b[0m\u001b[0;34m\u001b[0m\u001b[0m\n\u001b[1;32m     27\u001b[0m \u001b[0;34m\u001b[0m\u001b[0m\n\u001b[0;32m---> 28\u001b[0;31m     \u001b[0md\u001b[0m\u001b[0;34m[\u001b[0m\u001b[0;34m'tuningSpeed'\u001b[0m\u001b[0;34m]\u001b[0m \u001b[0;34m=\u001b[0m \u001b[0mpd\u001b[0m\u001b[0;34m.\u001b[0m\u001b[0mDataFrame\u001b[0m\u001b[0;34m.\u001b[0m\u001b[0mfrom_csv\u001b[0m\u001b[0;34m(\u001b[0m\u001b[0mpath\u001b[0m \u001b[0;34m+\u001b[0m \u001b[0msession\u001b[0m \u001b[0;34m+\u001b[0m \u001b[0;34m'/tables/tuning-speed.csv'\u001b[0m\u001b[0;34m)\u001b[0m\u001b[0;34m\u001b[0m\u001b[0m\n\u001b[0m\u001b[1;32m     29\u001b[0m     \u001b[0md\u001b[0m\u001b[0;34m[\u001b[0m\u001b[0;34m'tuningSpeed'\u001b[0m\u001b[0;34m]\u001b[0m \u001b[0;34m=\u001b[0m \u001b[0malign\u001b[0m\u001b[0;34m(\u001b[0m\u001b[0md\u001b[0m\u001b[0;34m[\u001b[0m\u001b[0;34m'tuningSpeed'\u001b[0m\u001b[0;34m]\u001b[0m\u001b[0;34m,\u001b[0m \u001b[0munits\u001b[0m\u001b[0;34m,\u001b[0m \u001b[0;34m[\u001b[0m\u001b[0;34m'sourceId'\u001b[0m\u001b[0;34m,\u001b[0m \u001b[0;34m'label'\u001b[0m\u001b[0;34m]\u001b[0m\u001b[0;34m)\u001b[0m\u001b[0;34m\u001b[0m\u001b[0m\n\u001b[1;32m     30\u001b[0m     \u001b[0md\u001b[0m\u001b[0;34m[\u001b[0m\u001b[0;34m'tuningSpeedNum'\u001b[0m\u001b[0;34m]\u001b[0m \u001b[0;34m=\u001b[0m \u001b[0md\u001b[0m\u001b[0;34m[\u001b[0m\u001b[0;34m'tuningSpeed'\u001b[0m\u001b[0;34m]\u001b[0m\u001b[0;34m.\u001b[0m\u001b[0mxs\u001b[0m\u001b[0;34m(\u001b[0m\u001b[0;34m'numTrials'\u001b[0m\u001b[0;34m,\u001b[0m \u001b[0mlevel\u001b[0m\u001b[0;34m=\u001b[0m\u001b[0;34m'label'\u001b[0m\u001b[0;34m)\u001b[0m\u001b[0;34m\u001b[0m\u001b[0m\n",
      "\u001b[0;32m/Users/sofroniewn/anaconda/lib/python2.7/site-packages/pandas/core/frame.pyc\u001b[0m in \u001b[0;36mfrom_csv\u001b[0;34m(cls, path, header, sep, index_col, parse_dates, encoding, tupleize_cols, infer_datetime_format)\u001b[0m\n\u001b[1;32m   1036\u001b[0m                           \u001b[0mparse_dates\u001b[0m\u001b[0;34m=\u001b[0m\u001b[0mparse_dates\u001b[0m\u001b[0;34m,\u001b[0m \u001b[0mindex_col\u001b[0m\u001b[0;34m=\u001b[0m\u001b[0mindex_col\u001b[0m\u001b[0;34m,\u001b[0m\u001b[0;34m\u001b[0m\u001b[0m\n\u001b[1;32m   1037\u001b[0m                           \u001b[0mencoding\u001b[0m\u001b[0;34m=\u001b[0m\u001b[0mencoding\u001b[0m\u001b[0;34m,\u001b[0m \u001b[0mtupleize_cols\u001b[0m\u001b[0;34m=\u001b[0m\u001b[0mtupleize_cols\u001b[0m\u001b[0;34m,\u001b[0m\u001b[0;34m\u001b[0m\u001b[0m\n\u001b[0;32m-> 1038\u001b[0;31m                           infer_datetime_format=infer_datetime_format)\n\u001b[0m\u001b[1;32m   1039\u001b[0m \u001b[0;34m\u001b[0m\u001b[0m\n\u001b[1;32m   1040\u001b[0m     \u001b[0;32mdef\u001b[0m \u001b[0mto_sparse\u001b[0m\u001b[0;34m(\u001b[0m\u001b[0mself\u001b[0m\u001b[0;34m,\u001b[0m \u001b[0mfill_value\u001b[0m\u001b[0;34m=\u001b[0m\u001b[0mNone\u001b[0m\u001b[0;34m,\u001b[0m \u001b[0mkind\u001b[0m\u001b[0;34m=\u001b[0m\u001b[0;34m'block'\u001b[0m\u001b[0;34m)\u001b[0m\u001b[0;34m:\u001b[0m\u001b[0;34m\u001b[0m\u001b[0m\n",
      "\u001b[0;32m/Users/sofroniewn/anaconda/lib/python2.7/site-packages/pandas/io/parsers.pyc\u001b[0m in \u001b[0;36mparser_f\u001b[0;34m(filepath_or_buffer, sep, dialect, compression, doublequote, escapechar, quotechar, quoting, skipinitialspace, lineterminator, header, index_col, names, prefix, skiprows, skipfooter, skip_footer, na_values, na_fvalues, true_values, false_values, delimiter, converters, dtype, usecols, engine, delim_whitespace, as_recarray, na_filter, compact_ints, use_unsigned, low_memory, buffer_lines, warn_bad_lines, error_bad_lines, keep_default_na, thousands, comment, decimal, parse_dates, keep_date_col, dayfirst, date_parser, memory_map, float_precision, nrows, iterator, chunksize, verbose, encoding, squeeze, mangle_dupe_cols, tupleize_cols, infer_datetime_format, skip_blank_lines)\u001b[0m\n\u001b[1;32m    472\u001b[0m                     skip_blank_lines=skip_blank_lines)\n\u001b[1;32m    473\u001b[0m \u001b[0;34m\u001b[0m\u001b[0m\n\u001b[0;32m--> 474\u001b[0;31m         \u001b[0;32mreturn\u001b[0m \u001b[0m_read\u001b[0m\u001b[0;34m(\u001b[0m\u001b[0mfilepath_or_buffer\u001b[0m\u001b[0;34m,\u001b[0m \u001b[0mkwds\u001b[0m\u001b[0;34m)\u001b[0m\u001b[0;34m\u001b[0m\u001b[0m\n\u001b[0m\u001b[1;32m    475\u001b[0m \u001b[0;34m\u001b[0m\u001b[0m\n\u001b[1;32m    476\u001b[0m     \u001b[0mparser_f\u001b[0m\u001b[0;34m.\u001b[0m\u001b[0m__name__\u001b[0m \u001b[0;34m=\u001b[0m \u001b[0mname\u001b[0m\u001b[0;34m\u001b[0m\u001b[0m\n",
      "\u001b[0;32m/Users/sofroniewn/anaconda/lib/python2.7/site-packages/pandas/io/parsers.pyc\u001b[0m in \u001b[0;36m_read\u001b[0;34m(filepath_or_buffer, kwds)\u001b[0m\n\u001b[1;32m    236\u001b[0m \u001b[0;34m\u001b[0m\u001b[0m\n\u001b[1;32m    237\u001b[0m     filepath_or_buffer, _ = get_filepath_or_buffer(filepath_or_buffer,\n\u001b[0;32m--> 238\u001b[0;31m                                                    encoding)\n\u001b[0m\u001b[1;32m    239\u001b[0m \u001b[0;34m\u001b[0m\u001b[0m\n\u001b[1;32m    240\u001b[0m     \u001b[0;32mif\u001b[0m \u001b[0mkwds\u001b[0m\u001b[0;34m.\u001b[0m\u001b[0mget\u001b[0m\u001b[0;34m(\u001b[0m\u001b[0;34m'date_parser'\u001b[0m\u001b[0;34m,\u001b[0m \u001b[0mNone\u001b[0m\u001b[0;34m)\u001b[0m \u001b[0;32mis\u001b[0m \u001b[0;32mnot\u001b[0m \u001b[0mNone\u001b[0m\u001b[0;34m:\u001b[0m\u001b[0;34m\u001b[0m\u001b[0m\n",
      "\u001b[0;32m/Users/sofroniewn/anaconda/lib/python2.7/site-packages/pandas/io/common.pyc\u001b[0m in \u001b[0;36mget_filepath_or_buffer\u001b[0;34m(filepath_or_buffer, encoding)\u001b[0m\n\u001b[1;32m    135\u001b[0m \u001b[0;34m\u001b[0m\u001b[0m\n\u001b[1;32m    136\u001b[0m     \u001b[0;32mif\u001b[0m \u001b[0m_is_url\u001b[0m\u001b[0;34m(\u001b[0m\u001b[0mfilepath_or_buffer\u001b[0m\u001b[0;34m)\u001b[0m\u001b[0;34m:\u001b[0m\u001b[0;34m\u001b[0m\u001b[0m\n\u001b[0;32m--> 137\u001b[0;31m         \u001b[0mreq\u001b[0m \u001b[0;34m=\u001b[0m \u001b[0m_urlopen\u001b[0m\u001b[0;34m(\u001b[0m\u001b[0mstr\u001b[0m\u001b[0;34m(\u001b[0m\u001b[0mfilepath_or_buffer\u001b[0m\u001b[0;34m)\u001b[0m\u001b[0;34m)\u001b[0m\u001b[0;34m\u001b[0m\u001b[0m\n\u001b[0m\u001b[1;32m    138\u001b[0m         \u001b[0;32mreturn\u001b[0m \u001b[0mmaybe_read_encoded_stream\u001b[0m\u001b[0;34m(\u001b[0m\u001b[0mreq\u001b[0m\u001b[0;34m,\u001b[0m \u001b[0mencoding\u001b[0m\u001b[0;34m)\u001b[0m\u001b[0;34m\u001b[0m\u001b[0m\n\u001b[1;32m    139\u001b[0m \u001b[0;34m\u001b[0m\u001b[0m\n",
      "\u001b[0;32m/Users/sofroniewn/anaconda/python.app/Contents/lib/python2.7/urllib2.pyc\u001b[0m in \u001b[0;36murlopen\u001b[0;34m(url, data, timeout, cafile, capath, cadefault, context)\u001b[0m\n\u001b[1;32m    152\u001b[0m     \u001b[0;32melse\u001b[0m\u001b[0;34m:\u001b[0m\u001b[0;34m\u001b[0m\u001b[0m\n\u001b[1;32m    153\u001b[0m         \u001b[0mopener\u001b[0m \u001b[0;34m=\u001b[0m \u001b[0m_opener\u001b[0m\u001b[0;34m\u001b[0m\u001b[0m\n\u001b[0;32m--> 154\u001b[0;31m     \u001b[0;32mreturn\u001b[0m \u001b[0mopener\u001b[0m\u001b[0;34m.\u001b[0m\u001b[0mopen\u001b[0m\u001b[0;34m(\u001b[0m\u001b[0murl\u001b[0m\u001b[0;34m,\u001b[0m \u001b[0mdata\u001b[0m\u001b[0;34m,\u001b[0m \u001b[0mtimeout\u001b[0m\u001b[0;34m)\u001b[0m\u001b[0;34m\u001b[0m\u001b[0m\n\u001b[0m\u001b[1;32m    155\u001b[0m \u001b[0;34m\u001b[0m\u001b[0m\n\u001b[1;32m    156\u001b[0m \u001b[0;32mdef\u001b[0m \u001b[0minstall_opener\u001b[0m\u001b[0;34m(\u001b[0m\u001b[0mopener\u001b[0m\u001b[0;34m)\u001b[0m\u001b[0;34m:\u001b[0m\u001b[0;34m\u001b[0m\u001b[0m\n",
      "\u001b[0;32m/Users/sofroniewn/anaconda/python.app/Contents/lib/python2.7/urllib2.pyc\u001b[0m in \u001b[0;36mopen\u001b[0;34m(self, fullurl, data, timeout)\u001b[0m\n\u001b[1;32m    435\u001b[0m         \u001b[0;32mfor\u001b[0m \u001b[0mprocessor\u001b[0m \u001b[0;32min\u001b[0m \u001b[0mself\u001b[0m\u001b[0;34m.\u001b[0m\u001b[0mprocess_response\u001b[0m\u001b[0;34m.\u001b[0m\u001b[0mget\u001b[0m\u001b[0;34m(\u001b[0m\u001b[0mprotocol\u001b[0m\u001b[0;34m,\u001b[0m \u001b[0;34m[\u001b[0m\u001b[0;34m]\u001b[0m\u001b[0;34m)\u001b[0m\u001b[0;34m:\u001b[0m\u001b[0;34m\u001b[0m\u001b[0m\n\u001b[1;32m    436\u001b[0m             \u001b[0mmeth\u001b[0m \u001b[0;34m=\u001b[0m \u001b[0mgetattr\u001b[0m\u001b[0;34m(\u001b[0m\u001b[0mprocessor\u001b[0m\u001b[0;34m,\u001b[0m \u001b[0mmeth_name\u001b[0m\u001b[0;34m)\u001b[0m\u001b[0;34m\u001b[0m\u001b[0m\n\u001b[0;32m--> 437\u001b[0;31m             \u001b[0mresponse\u001b[0m \u001b[0;34m=\u001b[0m \u001b[0mmeth\u001b[0m\u001b[0;34m(\u001b[0m\u001b[0mreq\u001b[0m\u001b[0;34m,\u001b[0m \u001b[0mresponse\u001b[0m\u001b[0;34m)\u001b[0m\u001b[0;34m\u001b[0m\u001b[0m\n\u001b[0m\u001b[1;32m    438\u001b[0m \u001b[0;34m\u001b[0m\u001b[0m\n\u001b[1;32m    439\u001b[0m         \u001b[0;32mreturn\u001b[0m \u001b[0mresponse\u001b[0m\u001b[0;34m\u001b[0m\u001b[0m\n",
      "\u001b[0;32m/Users/sofroniewn/anaconda/python.app/Contents/lib/python2.7/urllib2.pyc\u001b[0m in \u001b[0;36mhttp_response\u001b[0;34m(self, request, response)\u001b[0m\n\u001b[1;32m    548\u001b[0m         \u001b[0;32mif\u001b[0m \u001b[0;32mnot\u001b[0m \u001b[0;34m(\u001b[0m\u001b[0;36m200\u001b[0m \u001b[0;34m<=\u001b[0m \u001b[0mcode\u001b[0m \u001b[0;34m<\u001b[0m \u001b[0;36m300\u001b[0m\u001b[0;34m)\u001b[0m\u001b[0;34m:\u001b[0m\u001b[0;34m\u001b[0m\u001b[0m\n\u001b[1;32m    549\u001b[0m             response = self.parent.error(\n\u001b[0;32m--> 550\u001b[0;31m                 'http', request, response, code, msg, hdrs)\n\u001b[0m\u001b[1;32m    551\u001b[0m \u001b[0;34m\u001b[0m\u001b[0m\n\u001b[1;32m    552\u001b[0m         \u001b[0;32mreturn\u001b[0m \u001b[0mresponse\u001b[0m\u001b[0;34m\u001b[0m\u001b[0m\n",
      "\u001b[0;32m/Users/sofroniewn/anaconda/python.app/Contents/lib/python2.7/urllib2.pyc\u001b[0m in \u001b[0;36merror\u001b[0;34m(self, proto, *args)\u001b[0m\n\u001b[1;32m    473\u001b[0m         \u001b[0;32mif\u001b[0m \u001b[0mhttp_err\u001b[0m\u001b[0;34m:\u001b[0m\u001b[0;34m\u001b[0m\u001b[0m\n\u001b[1;32m    474\u001b[0m             \u001b[0margs\u001b[0m \u001b[0;34m=\u001b[0m \u001b[0;34m(\u001b[0m\u001b[0mdict\u001b[0m\u001b[0;34m,\u001b[0m \u001b[0;34m'default'\u001b[0m\u001b[0;34m,\u001b[0m \u001b[0;34m'http_error_default'\u001b[0m\u001b[0;34m)\u001b[0m \u001b[0;34m+\u001b[0m \u001b[0morig_args\u001b[0m\u001b[0;34m\u001b[0m\u001b[0m\n\u001b[0;32m--> 475\u001b[0;31m             \u001b[0;32mreturn\u001b[0m \u001b[0mself\u001b[0m\u001b[0;34m.\u001b[0m\u001b[0m_call_chain\u001b[0m\u001b[0;34m(\u001b[0m\u001b[0;34m*\u001b[0m\u001b[0margs\u001b[0m\u001b[0;34m)\u001b[0m\u001b[0;34m\u001b[0m\u001b[0m\n\u001b[0m\u001b[1;32m    476\u001b[0m \u001b[0;34m\u001b[0m\u001b[0m\n\u001b[1;32m    477\u001b[0m \u001b[0;31m# XXX probably also want an abstract factory that knows when it makes\u001b[0m\u001b[0;34m\u001b[0m\u001b[0;34m\u001b[0m\u001b[0m\n",
      "\u001b[0;32m/Users/sofroniewn/anaconda/python.app/Contents/lib/python2.7/urllib2.pyc\u001b[0m in \u001b[0;36m_call_chain\u001b[0;34m(self, chain, kind, meth_name, *args)\u001b[0m\n\u001b[1;32m    407\u001b[0m             \u001b[0mfunc\u001b[0m \u001b[0;34m=\u001b[0m \u001b[0mgetattr\u001b[0m\u001b[0;34m(\u001b[0m\u001b[0mhandler\u001b[0m\u001b[0;34m,\u001b[0m \u001b[0mmeth_name\u001b[0m\u001b[0;34m)\u001b[0m\u001b[0;34m\u001b[0m\u001b[0m\n\u001b[1;32m    408\u001b[0m \u001b[0;34m\u001b[0m\u001b[0m\n\u001b[0;32m--> 409\u001b[0;31m             \u001b[0mresult\u001b[0m \u001b[0;34m=\u001b[0m \u001b[0mfunc\u001b[0m\u001b[0;34m(\u001b[0m\u001b[0;34m*\u001b[0m\u001b[0margs\u001b[0m\u001b[0;34m)\u001b[0m\u001b[0;34m\u001b[0m\u001b[0m\n\u001b[0m\u001b[1;32m    410\u001b[0m             \u001b[0;32mif\u001b[0m \u001b[0mresult\u001b[0m \u001b[0;32mis\u001b[0m \u001b[0;32mnot\u001b[0m \u001b[0mNone\u001b[0m\u001b[0;34m:\u001b[0m\u001b[0;34m\u001b[0m\u001b[0m\n\u001b[1;32m    411\u001b[0m                 \u001b[0;32mreturn\u001b[0m \u001b[0mresult\u001b[0m\u001b[0;34m\u001b[0m\u001b[0m\n",
      "\u001b[0;32m/Users/sofroniewn/anaconda/python.app/Contents/lib/python2.7/urllib2.pyc\u001b[0m in \u001b[0;36mhttp_error_default\u001b[0;34m(self, req, fp, code, msg, hdrs)\u001b[0m\n\u001b[1;32m    556\u001b[0m \u001b[0;32mclass\u001b[0m \u001b[0mHTTPDefaultErrorHandler\u001b[0m\u001b[0;34m(\u001b[0m\u001b[0mBaseHandler\u001b[0m\u001b[0;34m)\u001b[0m\u001b[0;34m:\u001b[0m\u001b[0;34m\u001b[0m\u001b[0m\n\u001b[1;32m    557\u001b[0m     \u001b[0;32mdef\u001b[0m \u001b[0mhttp_error_default\u001b[0m\u001b[0;34m(\u001b[0m\u001b[0mself\u001b[0m\u001b[0;34m,\u001b[0m \u001b[0mreq\u001b[0m\u001b[0;34m,\u001b[0m \u001b[0mfp\u001b[0m\u001b[0;34m,\u001b[0m \u001b[0mcode\u001b[0m\u001b[0;34m,\u001b[0m \u001b[0mmsg\u001b[0m\u001b[0;34m,\u001b[0m \u001b[0mhdrs\u001b[0m\u001b[0;34m)\u001b[0m\u001b[0;34m:\u001b[0m\u001b[0;34m\u001b[0m\u001b[0m\n\u001b[0;32m--> 558\u001b[0;31m         \u001b[0;32mraise\u001b[0m \u001b[0mHTTPError\u001b[0m\u001b[0;34m(\u001b[0m\u001b[0mreq\u001b[0m\u001b[0;34m.\u001b[0m\u001b[0mget_full_url\u001b[0m\u001b[0;34m(\u001b[0m\u001b[0;34m)\u001b[0m\u001b[0;34m,\u001b[0m \u001b[0mcode\u001b[0m\u001b[0;34m,\u001b[0m \u001b[0mmsg\u001b[0m\u001b[0;34m,\u001b[0m \u001b[0mhdrs\u001b[0m\u001b[0;34m,\u001b[0m \u001b[0mfp\u001b[0m\u001b[0;34m)\u001b[0m\u001b[0;34m\u001b[0m\u001b[0m\n\u001b[0m\u001b[1;32m    559\u001b[0m \u001b[0;34m\u001b[0m\u001b[0m\n\u001b[1;32m    560\u001b[0m \u001b[0;32mclass\u001b[0m \u001b[0mHTTPRedirectHandler\u001b[0m\u001b[0;34m(\u001b[0m\u001b[0mBaseHandler\u001b[0m\u001b[0;34m)\u001b[0m\u001b[0;34m:\u001b[0m\u001b[0;34m\u001b[0m\u001b[0m\n",
      "\u001b[0;31mHTTPError\u001b[0m: HTTP Error 404: Not Found"
     ]
    }
   ],
   "source": [
    "sessions = range(0,13)\n",
    "tables = ['units', 'ISI', 'waveforms', 'tuning', 'profile']\n",
    "data = [load('%02g' % s, tables) for s in sessions]\n",
    "table =  pd.concat([x[0] for x in data], keys=[str(x[1].index[0]) for x in data], names=['anmId'])\n",
    "info =  pd.concat([x[1] for x in data])"
   ]
  },
  {
   "cell_type": "markdown",
   "metadata": {},
   "source": [
    "#### Create widgets to allow for animal selection"
   ]
  },
  {
   "cell_type": "code",
   "execution_count": null,
   "metadata": {
    "collapsed": false
   },
   "outputs": [],
   "source": [
    "animals = widgets.Dropdown(options = info.index.tolist())\n",
    "wA = interactive(listSources, animal=animals)\n",
    "sources = widgets.Select(options = [])\n",
    "wS = interactive(lambda source:source, source=sources)"
   ]
  },
  {
   "cell_type": "markdown",
   "metadata": {},
   "source": [
    "## Plot location of recordings"
   ]
  },
  {
   "cell_type": "code",
   "execution_count": null,
   "metadata": {
    "collapsed": false
   },
   "outputs": [],
   "source": [
    "plt.plot(info.cordsML,info.cordsAP,'.', color='k', ms=20);\n",
    "plt.ylim([-2.5, -1.5])\n",
    "plt.xlim([-4.0, -3.0])\n",
    "plt.xlabel('ML position (mm)')\n",
    "plt.ylabel('AP position (mm)')\n",
    "sns.despine()"
   ]
  },
  {
   "cell_type": "markdown",
   "metadata": {},
   "source": [
    "## Summarize units"
   ]
  },
  {
   "cell_type": "markdown",
   "metadata": {},
   "source": [
    "#### Plot waveform SNR vs False Alarm Rate"
   ]
  },
  {
   "cell_type": "code",
   "execution_count": null,
   "metadata": {
    "collapsed": false
   },
   "outputs": [],
   "source": [
    "x = table.units.rateFA\n",
    "x[x>2.5] = 2.75;\n",
    "y = table.units.waveformSNR\n",
    "scatter(x, y, xlabel='False alarm rate', ylabel='Signal to noise ratio');\n",
    "plt.xticks(np.linspace(0,2.25,4));\n",
    "#plt.plot([1.5, 1.5], [6, 30], color=[0,0.6,0], zorder=1)\n",
    "#plt.plot([0, 1.5], [6, 6], color=[0,0.6,0], zorder=1)\n",
    "plt.fill([0, 1.5, 1.5, 0], [6, 6, 30, 30], edgecolor=[0.8,0.9,0.8], facecolor=[0.8,0.9,0.8]);\n",
    "plt.xlim([0, 3]);\n",
    "#plt.savefig(os.path.join(path,'figuresEphys','SpikeQualityCol.eps'))\n"
   ]
  },
  {
   "cell_type": "markdown",
   "metadata": {},
   "source": [
    "#### Take only clean units"
   ]
  },
  {
   "cell_type": "code",
   "execution_count": null,
   "metadata": {
    "collapsed": false
   },
   "outputs": [],
   "source": [
    "table = table[table.units.clean]\n",
    "print len(table)"
   ]
  },
  {
   "cell_type": "code",
   "execution_count": null,
   "metadata": {
    "collapsed": true
   },
   "outputs": [],
   "source": [
    "goodTuning = table.units.pVal < 0.05\n",
    "table = table[goodTuning]"
   ]
  },
  {
   "cell_type": "markdown",
   "metadata": {},
   "source": [
    "#### Summarize clean units"
   ]
  },
  {
   "cell_type": "code",
   "execution_count": null,
   "metadata": {
    "collapsed": false
   },
   "outputs": [],
   "source": [
    "units = table.units.reset_index()\n",
    "print len(units)\n",
    "unitCount = units.groupby(['anmId']).count()['sourceId'].values\n",
    "print np.mean(unitCount), np.std(unitCount), len(unitCount)"
   ]
  },
  {
   "cell_type": "markdown",
   "metadata": {},
   "source": [
    "## Plot spike summary information"
   ]
  },
  {
   "cell_type": "markdown",
   "metadata": {},
   "source": [
    "#### Plot example mean waveform"
   ]
  },
  {
   "cell_type": "code",
   "execution_count": null,
   "metadata": {
    "collapsed": true
   },
   "outputs": [],
   "source": [
    "animals.options = info.index.tolist()\n",
    "display(wA,wS)"
   ]
  },
  {
   "cell_type": "code",
   "execution_count": null,
   "metadata": {
    "collapsed": false
   },
   "outputs": [],
   "source": [
    "a = wA.kwargs['animal']\n",
    "u = int(wS.kwargs['source'])\n",
    "x = table.waveforms.columns\n",
    "y = table.waveforms.loc[a,u].values\n",
    "time(x, y)\n",
    "plt.xlabel('Time (ms)');\n",
    "plt.ylabel('Voltage (uV)');"
   ]
  },
  {
   "cell_type": "markdown",
   "metadata": {},
   "source": [
    "#### Plot distribution of spike widths"
   ]
  },
  {
   "cell_type": "code",
   "execution_count": null,
   "metadata": {
    "collapsed": false
   },
   "outputs": [],
   "source": [
    "bins=range(50,950,100)\n",
    "out = plt.hist(table.units.spkWidth, bins=bins, rwidth=0.8, color=[0.7,0.7,0.7], edgecolor='none');\n",
    "plt.xlabel('Spike Width (us)')\n",
    "plt.ylabel('Number of units')\n",
    "col = [fs,fs,fs,frs,rs,rs,rs,rs]\n",
    "for c, p in zip(col, out[2]):\n",
    "    plt.setp(p, 'facecolor', c)\n",
    "plt.plot([350, 350], [0, 70], color=[0.7,0.7,0.7], zorder=1)\n",
    "plt.plot([450, 450], [0, 70], color=[0.7,0.7,0.7], zorder=1)\n",
    "plt.ylim([0, 70])\n",
    "plt.yticks(range(0,65,20))\n",
    "plt.xticks(range(100,800,200))\n",
    "sns.despine()"
   ]
  },
  {
   "cell_type": "markdown",
   "metadata": {},
   "source": [
    "#### Plot waveforms across cell types"
   ]
  },
  {
   "cell_type": "code",
   "execution_count": null,
   "metadata": {
    "collapsed": false
   },
   "outputs": [],
   "source": [
    "waves = table.waveforms[table.units.cellType == 'FastSpiker']\n",
    "wavesNorm = normalize(waves.values)\n",
    "for iSource in range(0,len(waves)):\n",
    "    plt.plot(waves.columns.values,wavesNorm[iSource],color = fs);\n",
    "waves = table.waveforms[table.units.cellType == 'IntermediateSpiker']\n",
    "wavesNorm = normalize(waves.values)\n",
    "for iSource in range(0,len(waves)):\n",
    "    plt.plot(waves.columns.values,wavesNorm[iSource],color = frs);\n",
    "waves = table.waveforms[table.units.cellType == 'RegularSpiker']\n",
    "wavesNorm = normalize(waves.values)\n",
    "for iSource in range(0,len(waves)):\n",
    "    plt.plot(waves.columns.values,wavesNorm[iSource],color = rs);\n",
    "sns.despine()\n",
    "plt.xlabel('Time (ms)');\n",
    "plt.ylabel('z-score');\n",
    "plt.yticks(range(-4,3,2))\n",
    "plt.ylim([-4.5, 3])\n",
    "plt.xticks(np.linspace(-0.4,.8,4))\n",
    "plt.xlim([-.5, .9]);"
   ]
  },
  {
   "cell_type": "markdown",
   "metadata": {},
   "source": [
    "#### Plot example ISI"
   ]
  },
  {
   "cell_type": "markdown",
   "metadata": {},
   "source": [
    "The paper includes the following ISI plots\n",
    "* 'Anm_0235585', 9\n",
    "* 'Anm_0250492', 28\n",
    "* 'Anm_0256043', 0\n",
    "* 'Anm_0237723', 0\n",
    "* 'Anm_0237723', 27\n",
    "* 'Anm_0250492', 0\n",
    "* 'Anm_0250495', 8\n",
    "* 'Anm_0235585', 12\n",
    "* 'Anm_0245918', 15\n",
    "* 'Anm_0237723', 2\n",
    "* 'Anm_0235585', 2\n",
    "* 'Anm_0245918', 2"
   ]
  },
  {
   "cell_type": "code",
   "execution_count": null,
   "metadata": {
    "collapsed": true
   },
   "outputs": [],
   "source": [
    "animals.options = info.index.tolist()\n",
    "display(wA,wS)"
   ]
  },
  {
   "cell_type": "code",
   "execution_count": null,
   "metadata": {
    "collapsed": false
   },
   "outputs": [],
   "source": [
    "a = wA.kwargs['animal']\n",
    "u = int(wS.kwargs['source'])\n",
    "x = table.ISI.columns\n",
    "y = table.ISI.loc[a, u]\n",
    "plt.bar(-.0025, max(y), width=.005, linewidth=0, color=[.7, .7, .7]);\n",
    "plt.bar(x, y, width=.0002, linewidth=0, color='k');\n",
    "plt.xticks(np.linspace(-.02,.02,3))\n",
    "plt.xlim([-.021, 0.021])\n",
    "plt.xlabel('Time (s)');\n",
    "plt.ylabel('Spikes / bin');\n",
    "sns.despine()"
   ]
  },
  {
   "cell_type": "markdown",
   "metadata": {},
   "source": [
    "## Extract units for tuning analysis"
   ]
  },
  {
   "cell_type": "code",
   "execution_count": null,
   "metadata": {
    "collapsed": false
   },
   "outputs": [],
   "source": [
    "tableFS = table[table.units.cellType == 'FastSpiker']\n",
    "table = table[table.units.cellType == 'RegularSpiker']\n",
    "print len(table)"
   ]
  },
  {
   "cell_type": "markdown",
   "metadata": {},
   "source": [
    "#FIGURE 3"
   ]
  },
  {
   "cell_type": "markdown",
   "metadata": {},
   "source": [
    "## Plot tuning curves"
   ]
  },
  {
   "cell_type": "markdown",
   "metadata": {},
   "source": [
    "The paper includes the following tuning curves\n",
    "* 'Anm_0235585', 9\n",
    "* 'Anm_0250492', 28\n",
    "* 'Anm_0256043', 0\n",
    "* 'Anm_0237723', 0\n",
    "* 'Anm_0237723', 27\n",
    "* 'Anm_0250492', 0\n",
    "* 'Anm_0250495', 8\n",
    "* 'Anm_0256043', 0\n",
    "* 'Anm_0256043', 10"
   ]
  },
  {
   "cell_type": "code",
   "execution_count": null,
   "metadata": {
    "collapsed": true
   },
   "outputs": [],
   "source": [
    "animals.options = info.index.tolist()\n",
    "display(wA,wS)"
   ]
  },
  {
   "cell_type": "code",
   "execution_count": null,
   "metadata": {
    "collapsed": false
   },
   "outputs": [],
   "source": [
    "a = wA.kwargs['animal']\n",
    "u = int(wS.kwargs['source'])\n",
    "x = table.tuning.columns.values\n",
    "y = table.tuning.loc[a,u].values\n",
    "err = table.tuningErr.loc[a,u].values\n",
    "rng = tuning(x, y, err, smooth=smooth, ylabel='Spikes / s');\n",
    "print '%.2f' % table.tuningSummary.Modulation.loc[a,u]\n",
    "#plt.savefig(os.path.join(path,'figuresEphys','Tuning%s_%s.eps' % (a, u)))"
   ]
  },
  {
   "cell_type": "markdown",
   "metadata": {},
   "source": [
    "####Plot ipsi tuning curve"
   ]
  },
  {
   "cell_type": "markdown",
   "metadata": {},
   "source": [
    "The paper includes the following ipsilateral tuning curves\n",
    "* 'Anm_0250492', 0\n",
    "* 'Anm_0250495', 8"
   ]
  },
  {
   "cell_type": "code",
   "execution_count": null,
   "metadata": {
    "collapsed": true
   },
   "outputs": [],
   "source": [
    "animals.options = info[info.ipsiAnm.values == True].index.tolist()\n",
    "display(wA,wS)"
   ]
  },
  {
   "cell_type": "code",
   "execution_count": null,
   "metadata": {
    "collapsed": false
   },
   "outputs": [],
   "source": [
    "a = wA.kwargs['animal']\n",
    "u = int(wS.kwargs['source'])  \n",
    "x = table.tuningIpsi.columns.values\n",
    "y = table.tuningIpsi.loc[a,u].values\n",
    "err = table.tuningIpsiErr.loc[a,u].values\n",
    "tuning(x, y, err, smooth=smooth, ylabel='Spikes / s');"
   ]
  },
  {
   "cell_type": "markdown",
   "metadata": {},
   "source": [
    "####Plot closed-loop tuning curve"
   ]
  },
  {
   "cell_type": "markdown",
   "metadata": {},
   "source": [
    "The paper includes the following closed-loop tuning curves\n",
    "* 'Anm_0250492', 0\n",
    "* 'Anm_0250495', 8"
   ]
  },
  {
   "cell_type": "code",
   "execution_count": null,
   "metadata": {
    "collapsed": true
   },
   "outputs": [],
   "source": [
    "animals.options = info[info.clAnm.values == True].index.tolist()\n",
    "display(wA,wS)"
   ]
  },
  {
   "cell_type": "code",
   "execution_count": null,
   "metadata": {
    "collapsed": false
   },
   "outputs": [],
   "source": [
    "a = wA.kwargs['animal']\n",
    "u = int(wS.kwargs['source'])\n",
    "x = table.tuningClosed.columns.values[:11]\n",
    "y = table.tuningClosed.loc[a,u].values[:11]\n",
    "err = table.tuningClosedErr.loc[a,u].values[:11]\n",
    "tuning(x, y, err, smooth=smooth, ylabel='Spikes / s');"
   ]
  },
  {
   "cell_type": "markdown",
   "metadata": {},
   "source": [
    "####Plot speed tuning curves"
   ]
  },
  {
   "cell_type": "markdown",
   "metadata": {},
   "source": [
    "The paper includes the following closed-loop tuning curves\n",
    "* 'Anm_0245918', 4\n",
    "* 'Anm_0235585', 10\n",
    "* 'Anm_0235585', 27\n",
    "* 'Anm_0245918', 9"
   ]
  },
  {
   "cell_type": "code",
   "execution_count": null,
   "metadata": {
    "collapsed": true
   },
   "outputs": [],
   "source": [
    "animals.options = info.index.tolist()\n",
    "display(wA,wS)"
   ]
  },
  {
   "cell_type": "code",
   "execution_count": null,
   "metadata": {
    "collapsed": false
   },
   "outputs": [],
   "source": [
    "a = wA.kwargs['animal']\n",
    "u = int(wS.kwargs['source'])\n",
    "x = table.tuningSpeed.columns.values\n",
    "y = table.tuningSpeed.loc[a,u].values\n",
    "err = table.tuningSpeedErr.loc[a,u].values\n",
    "x = x[~np.isnan(y)]\n",
    "err = err[~np.isnan(y)]\n",
    "y = y[~np.isnan(y)]\n",
    "pal = sns.color_palette(\"husl\", n_colors=len(x) + 6)\n",
    "pal = pal[6:6+len(x)][::-1]\n",
    "rng = tuning(x, y, err, smooth=smooth, pal=pal, ylabel='Spikes / s', label = 'Speed (cm/s)');\n",
    "print '%.2f' % table.tuningSpeedSummary.Modulation.loc[a,u]\n",
    "plt.xlim([-2, 32]);\n",
    "plt.yticks([0, 15, 30]);\n",
    "plt.savefig(os.path.join(path,'figuresEphys','TuningSpeed%s_%s.eps' % (a, u)))"
   ]
  },
  {
   "cell_type": "markdown",
   "metadata": {},
   "source": [
    "### Plot scatter of supression vs activation"
   ]
  },
  {
   "cell_type": "code",
   "execution_count": null,
   "metadata": {
    "collapsed": false
   },
   "outputs": [],
   "source": [
    "x = table.tuningSummary.Activation\n",
    "y = table.tuningSummary.Supression\n",
    "scatter(x, y, equal=True, xlabel='Activation (ips)', ylabel='Supression (ips)')\n",
    "plt.yticks([0, 10, 20, 30]);\n",
    "plt.xticks([0, 10, 20, 30]);"
   ]
  },
  {
   "cell_type": "code",
   "execution_count": null,
   "metadata": {
    "collapsed": false
   },
   "outputs": [],
   "source": [
    "x = tableFS.tuningSummary.Activation\n",
    "y = tableFS.tuningSummary.Supression\n",
    "scatter(x, y, equal=True, xlabel='Activation (ips)', ylabel='Supression (ips)')\n",
    "plt.yticks([0, 20, 40]);\n",
    "plt.xticks([0, 20, 40]);\n",
    "#plt.savefig(os.path.join(path,'figuresEphys','FSActSup.eps'))"
   ]
  },
  {
   "cell_type": "markdown",
   "metadata": {},
   "source": [
    "### Plot summary tuning curves"
   ]
  },
  {
   "cell_type": "code",
   "execution_count": null,
   "metadata": {
    "collapsed": false
   },
   "outputs": [],
   "source": [
    "curves = table.sort([('tuningSummary','ArgMax')])\n",
    "curves = curves[curves.tuningSummary.Activation>1]\n",
    "xy = [(curves.tuning.columns.values, y) for y in curves.tuning.values]\n",
    "fits = smootharray(xy, smooth=0, res=100)\n",
    "fits = stats.zscore(fits, axis=1)\n",
    "heatmap(fits, aspect=1, vmin=-1, vmax=2.5)\n",
    "#plt.savefig(os.path.join(path,'Tuning%s_units.eps' % len(fits)))"
   ]
  },
  {
   "cell_type": "code",
   "execution_count": null,
   "metadata": {
    "collapsed": false
   },
   "outputs": [],
   "source": [
    "curves = table.sort([('tuningSummary','ArgMin')])\n",
    "curves = curves[curves.tuningSummary.Supression>1]\n",
    "xy = [(curves.tuning.columns.values, y) for y in curves.tuning.values]\n",
    "fits = smootharray(xy, smooth=0, res=100)\n",
    "fits = stats.zscore(fits, axis=1)\n",
    "heatmap(fits, aspect=1, vmin=-1, vmax=2.5)\n",
    "plt.savefig(os.path.join(path,'TuningOff%s_units.eps' % len(fits)))"
   ]
  },
  {
   "cell_type": "markdown",
   "metadata": {},
   "source": [
    "### Plot histogram of modulation"
   ]
  },
  {
   "cell_type": "code",
   "execution_count": null,
   "metadata": {
    "collapsed": false
   },
   "outputs": [],
   "source": [
    "hist(table.tuningSummary.Modulation, xlabel='Modulation', ylabel='Number of units')\n",
    "plt.yticks(np.linspace(0,80,5));"
   ]
  },
  {
   "cell_type": "code",
   "execution_count": null,
   "metadata": {
    "collapsed": false
   },
   "outputs": [],
   "source": [
    "hist(tableFS.tuningSummary.Modulation, xlabel='Modulation', ylabel='Number of units')\n",
    "plt.yticks(np.linspace(0,20,3));\n",
    "#plt.savefig(os.path.join(path,'figuresEphys','FSMod.eps'))"
   ]
  },
  {
   "cell_type": "markdown",
   "metadata": {},
   "source": [
    "### Plot histogram of modulation"
   ]
  },
  {
   "cell_type": "code",
   "execution_count": null,
   "metadata": {
    "collapsed": false
   },
   "outputs": [],
   "source": [
    "hist(table.tuningSummary.ArgMax, xlabel='Wall distance (mm)', ylabel='Number of units')\n",
    "plt.yticks(np.linspace(0,50,3));\n",
    "plt.xticks(np.linspace(0,30,4));\n",
    "#plt.savefig(os.path.join(path,'figuresEphys','ArgMax.eps'))"
   ]
  },
  {
   "cell_type": "code",
   "execution_count": null,
   "metadata": {
    "collapsed": false
   },
   "outputs": [],
   "source": [
    "hist(tableFS.tuningSummary.ArgMax, xlabel='Wall distance (mm)', ylabel='Number of units')\n",
    "plt.yticks(np.linspace(0,10,3));\n",
    "plt.xticks(np.linspace(0,30,4));\n",
    "#plt.savefig(os.path.join(path,'figuresEphys','FSArgMax.eps'))"
   ]
  },
  {
   "cell_type": "markdown",
   "metadata": {},
   "source": [
    "### Plot scatter of wall modulation across layer 4 distance"
   ]
  },
  {
   "cell_type": "code",
   "execution_count": null,
   "metadata": {
    "collapsed": false
   },
   "outputs": [],
   "source": [
    "x = table.tuningSummary.Modulation\n",
    "y = table.units.distLayer4\n",
    "scatter(x, y, xlabel='Modulation', ylabel='Layer 4 distance', yinvert=True)\n",
    "plt.yticks(np.linspace(-200,400,4));\n",
    "plt.plot([-1.1, 1.1], [0, 0], color=[0.6, 0.6, 0.6], zorder=1);"
   ]
  },
  {
   "cell_type": "markdown",
   "metadata": {},
   "source": [
    "#### Plot scatter of wall out of reach activity across layer 4 distance"
   ]
  },
  {
   "cell_type": "code",
   "execution_count": null,
   "metadata": {
    "collapsed": false
   },
   "outputs": [],
   "source": [
    "x = table.tuningSummary.Baseline\n",
    "y = table.units.distLayer4\n",
    "scatter(x, y, yinvert=True, xlabel='Baseline (ips)', ylabel='Layer 4 distance')\n",
    "plt.plot([-2, 42], [0, 0], color=[0.6, 0.6, 0.6], zorder=1);\n",
    "plt.xlim([-2, 42])\n",
    "plt.yticks(np.linspace(-200,400,4));"
   ]
  },
  {
   "cell_type": "markdown",
   "metadata": {},
   "source": [
    "#### Plot scatter of peak wall distance activity across layer 4 distance"
   ]
  },
  {
   "cell_type": "code",
   "execution_count": null,
   "metadata": {
    "collapsed": false
   },
   "outputs": [],
   "source": [
    "x = table.tuningSummary.Max\n",
    "y = table.units.distLayer4\n",
    "scatter(x, y, xlabel='Peak (ips)', ylabel='Layer 4 distance', yinvert=True)\n",
    "plt.xlim([-2, 42])\n",
    "plt.plot([-2, 42], [0, 0], color=[0.6, 0.6, 0.6], zorder=1);\n",
    "plt.yticks(np.linspace(-200,400,4));"
   ]
  },
  {
   "cell_type": "markdown",
   "metadata": {},
   "source": [
    "## Plot profiles"
   ]
  },
  {
   "cell_type": "markdown",
   "metadata": {},
   "source": [
    "The paper includes the following time profiles\n",
    "* 'Anm_0235585', 12\n",
    "* 'Anm_0245918', 15\n",
    "* 'Anm_0237723', 2\n",
    "* 'Anm_0235585', 2"
   ]
  },
  {
   "cell_type": "code",
   "execution_count": null,
   "metadata": {
    "collapsed": true
   },
   "outputs": [],
   "source": [
    "animals.options = info.index.tolist()\n",
    "display(wA,wS)"
   ]
  },
  {
   "cell_type": "code",
   "execution_count": null,
   "metadata": {
    "collapsed": false
   },
   "outputs": [],
   "source": [
    "a = wA.kwargs['animal']\n",
    "u = int(wS.kwargs['source'])\n",
    "x1 = table.profile.columns.values[:500]\n",
    "x1 = x1 - x1[0]\n",
    "y1 = table.profile.loc[a, u].values[:500]\n",
    "x2 = table.profile.columns.values[500:]\n",
    "x2 = x2 - x2[0]\n",
    "y2 = table.profile.loc[a, u].values[500:]\n",
    "pairedtime(x1, y1, x2, y2);\n",
    "print '%.2f' % table.profileSummary.Modulation.loc[a,u]"
   ]
  },
  {
   "cell_type": "markdown",
   "metadata": {},
   "source": [
    "##Plot heatmap profiles"
   ]
  },
  {
   "cell_type": "markdown",
   "metadata": {},
   "source": [
    "#### Plot symmetric units"
   ]
  },
  {
   "cell_type": "code",
   "execution_count": null,
   "metadata": {
    "collapsed": false
   },
   "outputs": [],
   "source": [
    "curves = table.sort([('profileSummary','ArgMaxTowards')])\n",
    "curves = curves[curves.profileSummary.Modulation.abs()<=0.2]\n",
    "vals1 = np.asarray([x[:500] for x in curves.profile.values]) / curves.profileSummary.Max[:,None]\n",
    "vals2 = np.asarray([x[500:] for x in curves.profile.values]) / curves.profileSummary.Max[:,None]\n",
    "pairedheatmap(vals1, vals2, aspect=15)"
   ]
  },
  {
   "cell_type": "markdown",
   "metadata": {},
   "source": [
    "#### Plot asymmetric units"
   ]
  },
  {
   "cell_type": "code",
   "execution_count": null,
   "metadata": {
    "collapsed": false
   },
   "outputs": [],
   "source": [
    "curves = table.sort([('profileSummary','ArgMax')])\n",
    "curves = curves[curves.profileSummary.Modulation.abs()>0.2]\n",
    "vals1 = np.asarray([x[:500] for x in curves.profile.values]) / curves.profileSummary.Max[:,None]\n",
    "vals2 = np.asarray([x[500:] for x in curves.profile.values]) / curves.profileSummary.Max[:,None]\n",
    "pairedheatmap(vals1, vals2, aspect=10)"
   ]
  },
  {
   "cell_type": "markdown",
   "metadata": {},
   "source": [
    "##Plot summary data"
   ]
  },
  {
   "cell_type": "markdown",
   "metadata": {},
   "source": [
    "#### Plot scatter of supression vs activation"
   ]
  },
  {
   "cell_type": "code",
   "execution_count": null,
   "metadata": {
    "collapsed": false
   },
   "outputs": [],
   "source": [
    "x = table.profileSummary.TowardsMod\n",
    "y = table.profileSummary.AwayMod\n",
    "scatter(x, y, equal=True, xlabel='Towards (spk/s)', ylabel='Away (spk/s)')\n",
    "plt.yticks([0, 10, 20, 30]);\n",
    "plt.xticks([0, 10, 20, 30]);"
   ]
  },
  {
   "cell_type": "markdown",
   "metadata": {},
   "source": [
    "#### Plot histogram of modulation"
   ]
  },
  {
   "cell_type": "code",
   "execution_count": null,
   "metadata": {
    "collapsed": false
   },
   "outputs": [],
   "source": [
    "hist(table.profileSummary.Modulation, xlabel='Modulation', ylabel='Number of units')\n",
    "plt.yticks(range(0,50,10));"
   ]
  },
  {
   "cell_type": "markdown",
   "metadata": {},
   "source": [
    "#### Plot scatter of wall modulation across layer 4 distance"
   ]
  },
  {
   "cell_type": "code",
   "execution_count": null,
   "metadata": {
    "collapsed": false
   },
   "outputs": [],
   "source": [
    "x = table.profileSummary.Modulation\n",
    "y = table.units.distLayer4\n",
    "scatter(x, y, xlabel='Modulation', ylabel='Layer 4 distance', yinvert=True)\n",
    "plt.yticks(np.linspace(-200,400,4));"
   ]
  },
  {
   "cell_type": "markdown",
   "metadata": {},
   "source": [
    "### Ipsi vs contra summary"
   ]
  },
  {
   "cell_type": "code",
   "execution_count": null,
   "metadata": {
    "collapsed": false
   },
   "outputs": [],
   "source": [
    "x = table[~table.units.pValIpsi.isnull()].tuningSummary.Range\n",
    "y = table[~table.units.pValIpsi.isnull()].tuningIpsiSummary.Range\n",
    "modLat = np.divide(x-y,x+y)\n",
    "print modLat['Anm_0250492', 0]\n",
    "print modLat['Anm_0250492', 8]\n",
    "scatter(x, y, equal=True, xlabel='Contra (spk/s)', ylabel='Ipsi (spk/s)')"
   ]
  },
  {
   "cell_type": "markdown",
   "metadata": {},
   "source": [
    "#### Histogram of ipsi vs contra modulation"
   ]
  },
  {
   "cell_type": "code",
   "execution_count": null,
   "metadata": {
    "collapsed": false
   },
   "outputs": [],
   "source": [
    "hist(modLat, bins=5, xlabel='Modulation', ylabel='Number of units')\n",
    "plt.xlim([-1, 1]);"
   ]
  },
  {
   "cell_type": "markdown",
   "metadata": {},
   "source": [
    "### Open loop vs closed loop summary"
   ]
  },
  {
   "cell_type": "code",
   "execution_count": null,
   "metadata": {
    "collapsed": false
   },
   "outputs": [],
   "source": [
    "frac = table[~table.units.pValClosed.isnull()].tuningClosedNum.divide(table.tuningClosedNum.sum(axis=1),axis=0)<.02\n",
    "vals = table[~table.units.pValClosed.isnull()].tuningClosed.values\n",
    "vals = vals[:,:11]\n",
    "frac = frac.values[:,:11]\n",
    "vals[frac] = np.nan\n",
    "x = np.nanmean(vals, axis=1)\n",
    "vals = table[~table.units.pValClosed.isnull()].tuning.values\n",
    "vals[frac] = np.nan\n",
    "y = np.nanmean(vals, axis=1)\n",
    "modLoop = np.divide(x-y,x+y)\n",
    "scatter(x, y, equal=True, xlabel='Open loop (spk/s)', ylabel='Closed loop (spk/s)')"
   ]
  },
  {
   "cell_type": "markdown",
   "metadata": {},
   "source": [
    "####Histogram of open vs closed loop modulation"
   ]
  },
  {
   "cell_type": "code",
   "execution_count": null,
   "metadata": {
    "collapsed": false
   },
   "outputs": [],
   "source": [
    "hist(modLoop, bins=5, xlabel='Open loop / closed loop modulation', ylabel='Number of units')\n",
    "plt.xlim([-1, 1]);\n",
    "plt.yticks(range(0,100,20));"
   ]
  },
  {
   "cell_type": "markdown",
   "metadata": {},
   "source": [
    "### Depth of units recorded"
   ]
  },
  {
   "cell_type": "code",
   "execution_count": null,
   "metadata": {
    "collapsed": false
   },
   "outputs": [],
   "source": [
    "vals = table.units.distLayer4\n",
    "hist(vals, bins=5, horizontal=True, xlabel='Number of units', ylabel='Layer 4 distance', yinvert=True)\n",
    "plt.yticks(np.linspace(-200,400,4));"
   ]
  },
  {
   "cell_type": "markdown",
   "metadata": {},
   "source": [
    "## Speed tuning"
   ]
  },
  {
   "cell_type": "code",
   "execution_count": null,
   "metadata": {
    "collapsed": false
   },
   "outputs": [],
   "source": [
    "x = table[(table.units.pValSpeed < .05) & (table.tuningSpeedSummary.Range > 1)].tuningSpeedSummary.ArgMax\n",
    "hist(x, bins=5, xlabel='Peak (cm/s)', ylabel='Number of units')\n",
    "plt.yticks(range(0,40,10));\n",
    "#plt.savefig(os.path.join(path,'figuresEphys','SpeedHist.eps'))"
   ]
  },
  {
   "cell_type": "code",
   "execution_count": null,
   "metadata": {
    "collapsed": false
   },
   "outputs": [],
   "source": [
    "x = table[(table.units.pValSpeed < .05) & (table.tuningSpeedSummary.Range > 1)].tuningSpeedSummary.Baseline\n",
    "y = table[(table.units.pValSpeed < .05) & (table.tuningSpeedSummary.Range > 1)].tuningSpeedSummary.ArgMax\n",
    "scatter(x, y, xlabel='Baseline', ylabel='ArgMax');"
   ]
  },
  {
   "cell_type": "code",
   "execution_count": null,
   "metadata": {
    "collapsed": false
   },
   "outputs": [],
   "source": [
    "print len(table)\n",
    "print sum(table.units.pValSpeed < .05)\n",
    "print sum(table.units.pValSpeed < .05).astype('float64')/len(table)"
   ]
  }
 ],
 "metadata": {
  "kernelspec": {
   "display_name": "Python 2",
   "language": "python",
   "name": "python2"
  },
  "language_info": {
   "codemirror_mode": {
    "name": "ipython",
    "version": 2
   },
   "file_extension": ".py",
   "mimetype": "text/x-python",
   "name": "python",
   "nbconvert_exporter": "python",
   "pygments_lexer": "ipython2",
   "version": "2.7.10"
  }
 },
 "nbformat": 4,
 "nbformat_minor": 0
}

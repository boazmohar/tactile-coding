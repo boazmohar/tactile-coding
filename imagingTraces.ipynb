{
 "cells": [
  {
   "cell_type": "markdown",
   "metadata": {},
   "source": [
    "# *svoboda lab / tactile navigation*"
   ]
  },
  {
   "cell_type": "markdown",
   "metadata": {},
   "source": [
    "## Setup evnironment"
   ]
  },
  {
   "cell_type": "code",
   "execution_count": 1,
   "metadata": {
    "collapsed": true
   },
   "outputs": [],
   "source": [
    "import os\n",
    "import numpy as np\n",
    "import pandas as pd\n",
    "import scipy.io as sio\n",
    "import json\n",
    "import requests\n",
    "import re\n",
    "from scipy.stats import f_oneway\n",
    "from scipy.interpolate import UnivariateSpline\n",
    "from helper.plots import *"
   ]
  },
  {
   "cell_type": "markdown",
   "metadata": {},
   "source": [
    "## Setup plotting"
   ]
  },
  {
   "cell_type": "code",
   "execution_count": 2,
   "metadata": {
    "collapsed": false
   },
   "outputs": [],
   "source": [
    "import matplotlib.pyplot as plt\n",
    "from matplotlib.colors import ListedColormap\n",
    "from colorsys import hsv_to_rgb, rgb_to_hsv\n",
    "%matplotlib inline\n",
    "import seaborn as sns\n",
    "sns.set_context('paper', font_scale=2.0)\n",
    "sns.set_style('ticks')"
   ]
  },
  {
   "cell_type": "markdown",
   "metadata": {},
   "source": [
    "####Widgets"
   ]
  },
  {
   "cell_type": "code",
   "execution_count": 3,
   "metadata": {
    "collapsed": false
   },
   "outputs": [
    {
     "name": "stderr",
     "output_type": "stream",
     "text": [
      ":0: FutureWarning: IPython widgets are experimental and may change in the future.\n"
     ]
    }
   ],
   "source": [
    "from IPython.html import widgets\n",
    "from IPython.display import display\n",
    "from IPython.html.widgets import interactive"
   ]
  },
  {
   "cell_type": "markdown",
   "metadata": {},
   "source": [
    "## Load raw data"
   ]
  },
  {
   "cell_type": "code",
   "execution_count": 4,
   "metadata": {
    "collapsed": true
   },
   "outputs": [],
   "source": [
    "path = 'https://s3.amazonaws.com/neuro.datasets/svoboda.lab/tactile.coding/'"
   ]
  },
  {
   "cell_type": "code",
   "execution_count": 5,
   "metadata": {
    "collapsed": true
   },
   "outputs": [],
   "source": [
    "iSession = 13\n",
    "session = '%02g' % iSession"
   ]
  },
  {
   "cell_type": "markdown",
   "metadata": {},
   "source": [
    "#### Load info"
   ]
  },
  {
   "cell_type": "code",
   "execution_count": 6,
   "metadata": {
    "collapsed": false
   },
   "outputs": [],
   "source": [
    "r = requests.get(path + session + '/info.json').content\n",
    "info = json.loads(r)\n",
    "info['contributors'] = ', '.join(info['contributors'])\n",
    "info['dimensions'] = str(info['dimensions'])\n",
    "info = pd.DataFrame(info, index = [str(info['id'])])"
   ]
  },
  {
   "cell_type": "markdown",
   "metadata": {},
   "source": [
    "#### Load params"
   ]
  },
  {
   "cell_type": "code",
   "execution_count": 7,
   "metadata": {
    "collapsed": false
   },
   "outputs": [],
   "source": [
    "covariates = pd.DataFrame.from_csv(path + session + '/params/covariates.csv')"
   ]
  },
  {
   "cell_type": "markdown",
   "metadata": {},
   "source": [
    "Summarize trial information"
   ]
  },
  {
   "cell_type": "code",
   "execution_count": 8,
   "metadata": {
    "collapsed": false
   },
   "outputs": [],
   "source": [
    "trialData = covariates[['trialType','trialNum']].groupby(['trialNum'], sort=True).first()\n",
    "trialData = trialData.join(covariates[['speed','trialNum','corPos','wallDistOL']].groupby(['trialNum'], sort=True).mean())\n",
    "trialData.sort('trialType', inplace = True, ascending = False)"
   ]
  },
  {
   "cell_type": "code",
   "execution_count": 9,
   "metadata": {
    "collapsed": true
   },
   "outputs": [],
   "source": [
    "speedThresh = 3"
   ]
  },
  {
   "cell_type": "markdown",
   "metadata": {},
   "source": [
    "####Load timeseries"
   ]
  },
  {
   "cell_type": "code",
   "execution_count": 10,
   "metadata": {
    "collapsed": false
   },
   "outputs": [],
   "source": [
    "timeseries = pd.DataFrame.from_csv(path + session + '/sources/timeseries.csv')"
   ]
  },
  {
   "cell_type": "markdown",
   "metadata": {},
   "source": [
    "#### Summarize units"
   ]
  },
  {
   "cell_type": "code",
   "execution_count": 11,
   "metadata": {
    "collapsed": true
   },
   "outputs": [],
   "source": [
    "units = pd.DataFrame(timeseries.quantile(q=0.9, axis=1),columns=['activity'])"
   ]
  },
  {
   "cell_type": "markdown",
   "metadata": {},
   "source": [
    "## Perform regression on timeseries"
   ]
  },
  {
   "cell_type": "code",
   "execution_count": 12,
   "metadata": {
    "collapsed": true
   },
   "outputs": [],
   "source": [
    "def getTuningImaging(sourceId,keepInd,name,scale):\n",
    "    tmp = covariates\n",
    "    tmp['dff'] = timeseries.loc[sourceId].values\n",
    "    tmp = tmp[keepInd]\n",
    "    tmp = tmp[~tmp['itiPeriod'].values.astype(bool)]\n",
    "    tmp[name] = (tmp[name]/scale).round()*scale\n",
    "    df = tmp[['trialNum',name,'dff']]    \n",
    "    tuning, p = getTuning(df,'trialNum',name,'dff',sourceId)\n",
    "    return tuning, p"
   ]
  },
  {
   "cell_type": "code",
   "execution_count": 13,
   "metadata": {
    "collapsed": true
   },
   "outputs": [],
   "source": [
    "def getTuning(df,T,X,Y,sourceId):\n",
    "    df = df.groupby([T,X]).mean()\n",
    "    df = df.reset_index().set_index(T)\n",
    "    g = [df[df[X] == x][Y].values for x in df[X].unique()]\n",
    "    f, p = f_oneway(*g)\n",
    "    s = df.groupby([X])\n",
    "    d = {'meanRate':s.mean()[Y].values,'stdRate':s.std()[Y].values,'numTrials':s.count().values[:,0]}\n",
    "    tuning = pd.DataFrame(d).T\n",
    "    tuning.columns = s.mean().index.values\n",
    "    tuning['sourceId'] = sourceId\n",
    "    tuning.reset_index(level=0, inplace=True)\n",
    "    tuning.set_index('sourceId', inplace=True)\n",
    "    tuning.rename(columns={'index':'label'}, inplace=True)\n",
    "    tuning.index.name = None\n",
    "    return tuning, p"
   ]
  },
  {
   "cell_type": "markdown",
   "metadata": {},
   "source": [
    "Create wall distance tuning curves"
   ]
  },
  {
   "cell_type": "code",
   "execution_count": 14,
   "metadata": {
    "collapsed": false
   },
   "outputs": [],
   "source": [
    "pattern = re.compile('OL_.*R|OL_out')\n",
    "indexOL = trialData.trialType.str.match(pattern, as_indexer=True)\n",
    "indexRun = trialData.speed > speedThresh\n",
    "trials = trialData[indexOL & indexRun]\n",
    "keepInd = [x in trials.index for x in covariates.trialNum.values]\n",
    "tuning = [getTuningImaging(x,keepInd,'corPos',3) for x in range(len(timeseries))]\n",
    "units['pVal'] = [x[1] for x in tuning]\n",
    "tuning = pd.concat([x[0] for x in tuning])"
   ]
  },
  {
   "cell_type": "markdown",
   "metadata": {},
   "source": [
    "Create running speed tuning curves"
   ]
  },
  {
   "cell_type": "code",
   "execution_count": 15,
   "metadata": {
    "collapsed": false
   },
   "outputs": [],
   "source": [
    "pattern = re.compile('OL_.*R|OL_out')\n",
    "indexOL = trialData.trialType.str.match(pattern, as_indexer=True)\n",
    "indexFar = trialData.wallDistOL  > 20\n",
    "trials = trialData[indexOL & indexFar]\n",
    "keepInd = [x in trials.index for x in covariates.trialNum.values]\n",
    "tuningSpeed = [getTuningImaging(x,keepInd,'speed',5) for x in range(len(timeseries))]\n",
    "units['pVal-speed'] = [x[1] for x in tuningSpeed]\n",
    "tuningSpeed = pd.concat([x[0] for x in tuningSpeed])"
   ]
  },
  {
   "cell_type": "markdown",
   "metadata": {},
   "source": [
    "# Plot traces"
   ]
  },
  {
   "cell_type": "code",
   "execution_count": 16,
   "metadata": {
    "collapsed": true
   },
   "outputs": [],
   "source": [
    "def plotTimeseries(x, start, stop, c, ylabel=None):\n",
    "    plt.plot((covariates.index[start:stop] - covariates.index[start])/info.iloc[0]['rate-hz'], x[start:stop], c=c);\n",
    "    plt.xlabel('Time (s)')\n",
    "    if ylabel:\n",
    "        plt.ylabel(ylabel)"
   ]
  },
  {
   "cell_type": "markdown",
   "metadata": {},
   "source": [
    "Define time interval, time interval used in manuscript 2664, 3104"
   ]
  },
  {
   "cell_type": "code",
   "execution_count": 17,
   "metadata": {
    "collapsed": true
   },
   "outputs": [],
   "source": [
    "start = 2664\n",
    "stop = 3104"
   ]
  },
  {
   "cell_type": "markdown",
   "metadata": {},
   "source": [
    "Plot wall distance trace"
   ]
  },
  {
   "cell_type": "code",
   "execution_count": 18,
   "metadata": {
    "collapsed": false
   },
   "outputs": [
    {
     "data": {
      "image/png": "[encoded data removed]",
      "text/plain": [
       "<matplotlib.figure.Figure at 0x1105a6050>"
      ]
     },
     "metadata": {},
     "output_type": "display_data"
    }
   ],
   "source": [
    "plotTimeseries(covariates.corPos, start, stop, c='k', ylabel='Wall distance (mm)')\n",
    "plt.xlim([0, 60])\n",
    "plt.ylim([0, 30])\n",
    "plt.xticks(range(0,80,20))\n",
    "plt.yticks(range(0,40,10))\n",
    "plt.gca().invert_yaxis()\n",
    "sns.despine()"
   ]
  },
  {
   "cell_type": "markdown",
   "metadata": {},
   "source": [
    "Sources used in the paper are 150, 159, and 160"
   ]
  },
  {
   "cell_type": "code",
   "execution_count": 19,
   "metadata": {
    "collapsed": false
   },
   "outputs": [],
   "source": [
    "sourcesList = units.index.values\n",
    "sources = widgets.Select(options = [str(x) for x in sourcesList])\n",
    "wS = interactive(lambda source:source, source=sources)\n",
    "display(wS)"
   ]
  },
  {
   "cell_type": "code",
   "execution_count": 20,
   "metadata": {
    "collapsed": false
   },
   "outputs": [
    {
     "data": {
      "image/png": "[encoded data removed]",
      "text/plain": [
       "<matplotlib.figure.Figure at 0x10daaec10>"
      ]
     },
     "metadata": {},
     "output_type": "display_data"
    }
   ],
   "source": [
    "u = int(wS.kwargs['source'])\n",
    "plotTimeseries(timeseries.loc[u], start, stop, c='k', ylabel='Activity (Dff)')\n",
    "plt.xlim([0, 60])\n",
    "plt.xticks(range(0,80,20))\n",
    "plt.yticks(range(0,10,4))\n",
    "plt.ylim([-1, 9])\n",
    "sns.despine()"
   ]
  }
 ],
 "metadata": {
  "kernelspec": {
   "display_name": "Python 2",
   "language": "python",
   "name": "python2"
  },
  "language_info": {
   "codemirror_mode": {
    "name": "ipython",
    "version": 2
   },
   "file_extension": ".py",
   "mimetype": "text/x-python",
   "name": "python",
   "nbconvert_exporter": "python",
   "pygments_lexer": "ipython2",
   "version": "2.7.10"
  }
 },
 "nbformat": 4,
 "nbformat_minor": 0
}

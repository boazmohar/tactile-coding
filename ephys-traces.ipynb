{
 "cells": [
  {
   "cell_type": "markdown",
   "metadata": {},
   "source": [
    "# *svoboda lab / tactile navigation*"
   ]
  },
  {
   "cell_type": "markdown",
   "metadata": {},
   "source": [
    "## Setup evnironment"
   ]
  },
  {
   "cell_type": "code",
   "execution_count": 1,
   "metadata": {
    "collapsed": true
   },
   "outputs": [],
   "source": [
    "import os\n",
    "import numpy as np\n",
    "import pandas as pd\n",
    "import scipy.io as sio\n",
    "import json\n",
    "import re\n",
    "import requests\n",
    "from scipy.stats import f_oneway\n",
    "from scipy.interpolate import UnivariateSpline"
   ]
  },
  {
   "cell_type": "markdown",
   "metadata": {},
   "source": [
    "## Setup plotting"
   ]
  },
  {
   "cell_type": "code",
   "execution_count": 2,
   "metadata": {
    "collapsed": false
   },
   "outputs": [],
   "source": [
    "import matplotlib.pyplot as plt\n",
    "from matplotlib.colors import ListedColormap\n",
    "from colorsys import hsv_to_rgb, rgb_to_hsv\n",
    "%matplotlib inline\n",
    "import seaborn as sns\n",
    "sns.set_context('paper')\n",
    "sns.set_style('ticks')\n",
    "from helper.plots import colormap"
   ]
  },
  {
   "cell_type": "markdown",
   "metadata": {},
   "source": [
    "####Widgets"
   ]
  },
  {
   "cell_type": "code",
   "execution_count": 3,
   "metadata": {
    "collapsed": false
   },
   "outputs": [
    {
     "name": "stderr",
     "output_type": "stream",
     "text": [
      ":0: FutureWarning: IPython widgets are experimental and may change in the future.\n"
     ]
    }
   ],
   "source": [
    "from IPython.html import widgets\n",
    "from IPython.display import display\n",
    "from IPython.html.widgets import interactive"
   ]
  },
  {
   "cell_type": "markdown",
   "metadata": {},
   "source": [
    "## Load raw data"
   ]
  },
  {
   "cell_type": "code",
   "execution_count": 4,
   "metadata": {
    "collapsed": true
   },
   "outputs": [],
   "source": [
    "path = 'https://s3.amazonaws.com/neuro.datasets/svoboda.lab/tactile.coding/'"
   ]
  },
  {
   "cell_type": "code",
   "execution_count": 5,
   "metadata": {
    "collapsed": true
   },
   "outputs": [],
   "source": [
    "iSession = 1\n",
    "session = '%02g' % iSession"
   ]
  },
  {
   "cell_type": "markdown",
   "metadata": {},
   "source": [
    "#### Load info"
   ]
  },
  {
   "cell_type": "code",
   "execution_count": 6,
   "metadata": {
    "collapsed": false
   },
   "outputs": [],
   "source": [
    "r = requests.get(path + session + '/info.json').content\n",
    "info = json.loads(r)\n",
    "info['contributors'] = ', '.join(info['contributors'])\n",
    "info = pd.DataFrame(info, index = [str(info['id'])])"
   ]
  },
  {
   "cell_type": "markdown",
   "metadata": {
    "collapsed": true
   },
   "source": [
    "#### Load params"
   ]
  },
  {
   "cell_type": "code",
   "execution_count": 7,
   "metadata": {
    "collapsed": false
   },
   "outputs": [
    {
     "name": "stderr",
     "output_type": "stream",
     "text": [
      "/Users/sofroniewn/anaconda/lib/python2.7/site-packages/pandas/core/indexing.py:115: SettingWithCopyWarning: \n",
      "A value is trying to be set on a copy of a slice from a DataFrame\n",
      "\n",
      "See the the caveats in the documentation: http://pandas.pydata.org/pandas-docs/stable/indexing.html#indexing-view-versus-copy\n",
      "  self._setitem_with_indexer(indexer, value)\n"
     ]
    }
   ],
   "source": [
    "covariates = pd.DataFrame.from_csv(path + session + '/params/covariates.csv')\n",
    "covariates['timeStamp'] = range(len(covariates))\n",
    "covariates.set_index(['timeStamp'], inplace=True)\n",
    "covariates['timeStamp'] = range(len(covariates))\n",
    "pattern = re.compile('OL_.*L')\n",
    "indexL = covariates.trialType.str.match(pattern, as_indexer=True)\n",
    "covariates.corPos.loc[indexL] = 30 - covariates.corPos.loc[indexL]\n",
    "covariates['optoPos'] = np.convolve(covariates.laserPower, np.ones((100,))/2, mode='same')\n",
    "covariates.optoPos = (covariates.optoPos.max()-covariates.optoPos)/covariates.optoPos.max()*30"
   ]
  },
  {
   "cell_type": "markdown",
   "metadata": {},
   "source": [
    "####Load spikes"
   ]
  },
  {
   "cell_type": "code",
   "execution_count": 8,
   "metadata": {
    "collapsed": false
   },
   "outputs": [],
   "source": [
    "times = pd.DataFrame.from_csv(path + session + '/spikes/times.csv')\n",
    "waveforms = pd.DataFrame.from_csv(path + session + '/spikes/waveforms.csv')\n",
    "properties = pd.DataFrame.from_csv(path + session + '/spikes/properties.csv')\n",
    "times['spkAmp'] = waveforms['0.0']\n",
    "waveforms['sourceId'] = times['sourceId']"
   ]
  },
  {
   "cell_type": "markdown",
   "metadata": {},
   "source": [
    "## Create unit summary information"
   ]
  },
  {
   "cell_type": "markdown",
   "metadata": {},
   "source": [
    "#### Unit firing rate information"
   ]
  },
  {
   "cell_type": "code",
   "execution_count": 9,
   "metadata": {
    "collapsed": false
   },
   "outputs": [],
   "source": [
    "units = properties"
   ]
  },
  {
   "cell_type": "code",
   "execution_count": 10,
   "metadata": {
    "collapsed": false
   },
   "outputs": [],
   "source": [
    "numSpikes = times.groupby(['sourceId'], sort=True).count().trialNum.values\n",
    "units = units.join(pd.DataFrame({'numSpikes':numSpikes}))\n",
    "units = units.join(-times[['sourceId','spkAmp']].groupby(['sourceId'], sort=True).mean())"
   ]
  },
  {
   "cell_type": "code",
   "execution_count": 11,
   "metadata": {
    "collapsed": false
   },
   "outputs": [],
   "source": [
    "meanWaveform = waveforms.groupby('sourceId').mean()\n",
    "stdWaveform = waveforms.groupby('sourceId').std().mean(1)\n",
    "rangeWaveform = meanWaveform.max(1) - meanWaveform.min(1)\n",
    "waveformSNR = rangeWaveform.divide(stdWaveform)\n",
    "units = units.join(pd.DataFrame({'waveformSNR':waveformSNR.values}))"
   ]
  },
  {
   "cell_type": "code",
   "execution_count": 12,
   "metadata": {
    "collapsed": true
   },
   "outputs": [],
   "source": [
    "def getFiringRate(sourceId):\n",
    "    spkTimes = times[times.sourceId == sourceId]\n",
    "    spkCount = spkTimes.groupby(['trialNum']).count().iloc[:,0]\n",
    "    trialDuration = covariates.groupby(['trialNum']).count().iloc[:,0]\n",
    "    spkCount = spkCount.divide(trialDuration)*500\n",
    "    spkCount = spkCount.fillna(0)\n",
    "    return spkCount"
   ]
  },
  {
   "cell_type": "code",
   "execution_count": 13,
   "metadata": {
    "collapsed": false
   },
   "outputs": [],
   "source": [
    "def getSpkAmpDrift(sourceId):\n",
    "    spkAmp = times[times.sourceId == sourceId].groupby(['trialNum'])['spkAmp'].mean()\n",
    "    early = spkAmp[spkAmp.index < spkAmp.index[0] + len(spkAmp)/3].mean()\n",
    "    late = spkAmp[spkAmp.index > spkAmp.index[0] + 2*len(spkAmp)/3].mean()\n",
    "    drift = (early - late)/spkAmp.mean()*100\n",
    "    return drift"
   ]
  },
  {
   "cell_type": "code",
   "execution_count": 14,
   "metadata": {
    "collapsed": false
   },
   "outputs": [],
   "source": [
    "def getFiringDrift(sourceId):\n",
    "    spkCount = getFiringRate(sourceId)\n",
    "    early = spkCount[spkCount.index < spkCount.index[0] + len(spkCount)/3].mean()\n",
    "    late = spkCount[spkCount.index > spkCount.index[0] + 2*len(spkCount)/3].mean()\n",
    "    firingDrift = (early - late)/spkCount.mean()*100\n",
    "    return firingDrift"
   ]
  },
  {
   "cell_type": "code",
   "execution_count": 15,
   "metadata": {
    "collapsed": false
   },
   "outputs": [],
   "source": [
    "units = units.join(pd.DataFrame({'firingDrift':[getFiringDrift(x) for x in units.sourceId]}))\n",
    "units = units.join(pd.DataFrame({'spkAmpDrift':[getSpkAmpDrift(x) for x in units.sourceId]}))"
   ]
  },
  {
   "cell_type": "code",
   "execution_count": 16,
   "metadata": {
    "collapsed": false
   },
   "outputs": [
    {
     "data": {
      "image/png": "[encoded data removed]",
      "text/plain": [
       "<matplotlib.figure.Figure at 0x10dc4fcd0>"
      ]
     },
     "metadata": {},
     "output_type": "display_data"
    }
   ],
   "source": [
    "sourceId = 14\n",
    "spkCount = getFiringRate(sourceId)\n",
    "spkTimes = times[times.sourceId == sourceId]\n",
    "plt.plot(spkTimes.trialNum,-spkTimes.spkAmp,'.');\n",
    "plt.plot(spkCount.index.values,spkCount.values*20);\n",
    "sns.despine()"
   ]
  },
  {
   "cell_type": "markdown",
   "metadata": {},
   "source": [
    "#### Compute waveforms"
   ]
  },
  {
   "cell_type": "code",
   "execution_count": 17,
   "metadata": {
    "collapsed": true
   },
   "outputs": [],
   "source": [
    "def smoothfit(x, y, smooth=0, res=1000):\n",
    "    spl = UnivariateSpline(x, y)\n",
    "    spl.set_smoothing_factor(smooth)\n",
    "    xs = np.linspace(np.min(x), np.max(x), res)\n",
    "    return xs, spl(xs)"
   ]
  },
  {
   "cell_type": "code",
   "execution_count": 18,
   "metadata": {
    "collapsed": true
   },
   "outputs": [],
   "source": [
    "def getSpkWidth(sourceId):\n",
    "    xs, ys = smoothfit(meanWaveform.columns.astype('float').values, meanWaveform.loc[sourceId].values, smooth=100)\n",
    "    minLoc = ys.argmin()\n",
    "    spkWidth = ys[minLoc:].argmax()\n",
    "    spkWidth = xs[minLoc + spkWidth] - xs[minLoc]\n",
    "    spkWidth = spkWidth*1000\n",
    "    return spkWidth"
   ]
  },
  {
   "cell_type": "code",
   "execution_count": 19,
   "metadata": {
    "collapsed": false
   },
   "outputs": [],
   "source": [
    "units = units.join(pd.DataFrame({'spkWidth':[getSpkWidth(x) for x in units.sourceId]}))"
   ]
  },
  {
   "cell_type": "code",
   "execution_count": 20,
   "metadata": {
    "collapsed": true
   },
   "outputs": [],
   "source": [
    "def plotWaveform(sourceId):\n",
    "    xs, ys = smoothfit(meanWaveform.columns.astype('float').values, meanWaveform.loc[sourceId].values, smooth=100)\n",
    "    plt.plot(xs,ys);"
   ]
  },
  {
   "cell_type": "code",
   "execution_count": 21,
   "metadata": {
    "collapsed": true
   },
   "outputs": [],
   "source": [
    "def classifyCellType(SpikeWidth):\n",
    "    if SpikeWidth < 350:\n",
    "        label = 'FastSpiker'\n",
    "    elif SpikeWidth < 450:\n",
    "        label = 'IntermediateSpiker'\n",
    "    else:\n",
    "        label = 'RegularSpiker'\n",
    "    return label"
   ]
  },
  {
   "cell_type": "code",
   "execution_count": 22,
   "metadata": {
    "collapsed": false
   },
   "outputs": [],
   "source": [
    "units = units.join(pd.DataFrame({'cellType':units.spkWidth.apply(classifyCellType)}))"
   ]
  },
  {
   "cell_type": "markdown",
   "metadata": {},
   "source": [
    "#### Create ISI plot"
   ]
  },
  {
   "cell_type": "code",
   "execution_count": 23,
   "metadata": {
    "collapsed": true
   },
   "outputs": [],
   "source": [
    "def getSpikeISI(sourceId,threshFA):\n",
    "    spkDiff = times[times.sourceId == sourceId].spkTime.diff()\n",
    "    spkDiff[spkDiff<0] = np.NaN\n",
    "    rateFA = float(sum(spkDiff<threshFA))/spkDiff.count()*100\n",
    "    timesISI = np.linspace(0,.02,300)\n",
    "    ISI = np.histogram(spkDiff,timesISI)[0]\n",
    "    peakTimeISI = timesISI[ISI.argmax()]\n",
    "    timesISI = timesISI[:-1]\n",
    "    timesISI = np.concatenate((-np.fliplr([timesISI])[0],timesISI[1:]),axis = 1)\n",
    "    ISI = np.concatenate((np.fliplr([ISI])[0],ISI[1:]),axis = 1)\n",
    "    return timesISI, ISI, peakTimeISI, rateFA"
   ]
  },
  {
   "cell_type": "code",
   "execution_count": 24,
   "metadata": {
    "collapsed": true
   },
   "outputs": [],
   "source": [
    "threshFA = 0.0025"
   ]
  },
  {
   "cell_type": "code",
   "execution_count": 25,
   "metadata": {
    "collapsed": false
   },
   "outputs": [],
   "source": [
    "units = units.join(pd.DataFrame({'rateFA':[getSpikeISI(x,threshFA)[3] for x in units.sourceId]}))"
   ]
  },
  {
   "cell_type": "code",
   "execution_count": 26,
   "metadata": {
    "collapsed": true
   },
   "outputs": [],
   "source": [
    "units = units.join(pd.DataFrame({'peakTimeISI':[getSpikeISI(x,threshFA)[2] for x in units.sourceId]}))"
   ]
  },
  {
   "cell_type": "code",
   "execution_count": 27,
   "metadata": {
    "collapsed": false
   },
   "outputs": [],
   "source": [
    "ISI = pd.DataFrame([getSpikeISI(x,threshFA)[1] for x in units.sourceId])\n",
    "ISI.columns = getSpikeISI(0,threshFA)[0]"
   ]
  },
  {
   "cell_type": "markdown",
   "metadata": {},
   "source": [
    "## Process data"
   ]
  },
  {
   "cell_type": "markdown",
   "metadata": {},
   "source": [
    "#### Create trial summary"
   ]
  },
  {
   "cell_type": "code",
   "execution_count": 28,
   "metadata": {
    "collapsed": false
   },
   "outputs": [],
   "source": [
    "trialData = covariates[['trialType','trialNum']].groupby(['trialNum'], sort=True).first()\n",
    "trialData = trialData.join(covariates[['speed','trialNum','wallDistOL']].groupby(['trialNum'], sort=True).mean())\n",
    "trialData.sort('wallDistOL', inplace = True, ascending = True)"
   ]
  },
  {
   "cell_type": "markdown",
   "metadata": {},
   "source": [
    "#### Convert spike times inside trial to timeStamps of behavior data"
   ]
  },
  {
   "cell_type": "code",
   "execution_count": 29,
   "metadata": {
    "collapsed": false
   },
   "outputs": [],
   "source": [
    "trialStart = covariates[['timeStamp','trialNum']].groupby('trialNum').first()\n",
    "times['timeStamp'] = trialStart.timeStamp[times.trialNum].values + (500*times.spkTime).round()+500\n",
    "times['corPos'] = covariates.corPos.loc[times.timeStamp.values].values\n",
    "times['optoPos'] = covariates.optoPos.loc[times.timeStamp.values].values"
   ]
  },
  {
   "cell_type": "code",
   "execution_count": 30,
   "metadata": {
    "collapsed": true
   },
   "outputs": [],
   "source": [
    "def getSpikeTimeseries(sourceId):\n",
    "    data = times[(times['sourceId'] == sourceId) & (times['timeStamp'] < len(covariates))]\n",
    "    data = data.groupby('timeStamp').count()\n",
    "    timeSeries = np.zeros(len(covariates))\n",
    "    timeSeries[data.index.values.astype('int')] = data.trialNum\n",
    "    timeSeries[covariates['itiPeriod'].values.astype('bool')] = np.NaN\n",
    "    return timeSeries"
   ]
  },
  {
   "cell_type": "code",
   "execution_count": 31,
   "metadata": {
    "collapsed": true
   },
   "outputs": [],
   "source": [
    "sourcesList = units.index.values\n",
    "sources = widgets.Select(options = [str(x) for x in sourcesList])\n",
    "wS = interactive(lambda source:source, source=sources)"
   ]
  },
  {
   "cell_type": "markdown",
   "metadata": {},
   "source": [
    "#### Define speed threshold"
   ]
  },
  {
   "cell_type": "code",
   "execution_count": 32,
   "metadata": {
    "collapsed": true
   },
   "outputs": [],
   "source": [
    "speedThresh = 3"
   ]
  },
  {
   "cell_type": "markdown",
   "metadata": {},
   "source": [
    "## Make Raster"
   ]
  },
  {
   "cell_type": "markdown",
   "metadata": {},
   "source": [
    "#### Make function which creates raster and overlay of covariate when given covariate name, sourceID, and list of trials"
   ]
  },
  {
   "cell_type": "code",
   "execution_count": 33,
   "metadata": {
    "collapsed": false
   },
   "outputs": [],
   "source": [
    "def getRaster(sourceId, trials, name):\n",
    "    data = covariates[name]\n",
    "    ephysData = times[times['sourceId'] == sourceId]\n",
    "    \n",
    "    lenTrial = 2001\n",
    "    dataMat = np.zeros((len(trials),lenTrial))\n",
    "    ind = 0\n",
    "    spkTrial = []\n",
    "    spkTime = []\n",
    "    spkCol = []\n",
    "    for iTrial in trials.index:\n",
    "        tmp = data[(covariates['trialNum'] == iTrial) & (covariates['itiPeriod'] == 0)]\n",
    "        if len(tmp) >= lenTrial:\n",
    "            dataMat[ind,:] = tmp[:lenTrial]\n",
    "        else:\n",
    "            dataMat[ind,:len(tmp)] = tmp\n",
    "            dataMat[ind,len(tmp):] = tmp[-1]\n",
    "        tmp = ephysData[ephysData['trialNum'] == iTrial]\n",
    "        spkTrial.extend(np.tile(ind,len(tmp.spkTime)))\n",
    "        spkTime.extend(tmp.spkTime*500)\n",
    "        spkCol.extend(tmp[name])\n",
    "        \n",
    "        ind = ind + 1\n",
    "    return dataMat, spkTime, spkTrial, spkCol"
   ]
  },
  {
   "cell_type": "code",
   "execution_count": 34,
   "metadata": {
    "collapsed": true
   },
   "outputs": [],
   "source": [
    "def plotRaster(mat, time, trial, col, pal):\n",
    "    #plt.imshow(mat, interpolation='none', aspect=5.0);\n",
    "    plt.scatter(time, trial, 25, linewidth=0, c=col, cmap=pal, vmin=0, vmax=30);\n",
    "    plt.xlim([0, 2000])\n",
    "    sns.despine();\n",
    "    plt.axis('off');\n",
    "    plt.ylim([0, max(trial)])\n",
    "    plt.gca().invert_yaxis();"
   ]
  },
  {
   "cell_type": "markdown",
   "metadata": {},
   "source": [
    "Select open loop contra wall trials where mouse was running"
   ]
  },
  {
   "cell_type": "code",
   "execution_count": 35,
   "metadata": {
    "collapsed": true
   },
   "outputs": [],
   "source": [
    "display(wS)"
   ]
  },
  {
   "cell_type": "code",
   "execution_count": 36,
   "metadata": {
    "collapsed": true
   },
   "outputs": [],
   "source": [
    "u = int(wS.kwargs['source'])\n",
    "pattern = re.compile('OL_.*R|OL_out')\n",
    "indexOL = trialData.trialType.str.match(pattern, as_indexer=True)\n",
    "indexRun = trialData.speed > speedThresh\n",
    "trials = trialData[indexOL & indexRun]\n",
    "trials = trials.sort('wallDistOL', ascending=False)\n",
    "mat, time, trial, col = getRaster(u, trials, 'corPos')"
   ]
  },
  {
   "cell_type": "code",
   "execution_count": 37,
   "metadata": {
    "collapsed": false
   },
   "outputs": [
    {
     "data": {
      "image/png": "[encoded data removed]",
      "text/plain": [
       "<matplotlib.figure.Figure at 0x10dc32ed0>"
      ]
     },
     "metadata": {},
     "output_type": "display_data"
    }
   ],
   "source": [
    "fig = plt.figure(figsize=(6,3.5))\n",
    "plotRaster(mat, time, trial, col, colormap(0))"
   ]
  },
  {
   "cell_type": "code",
   "execution_count": 38,
   "metadata": {
    "collapsed": false
   },
   "outputs": [],
   "source": [
    "if info.ipsiAnm.values[0]:\n",
    "    pattern = re.compile('OL_.*L|OL_out')\n",
    "    indexOL = trialData.trialType.str.match(pattern, as_indexer=True)\n",
    "    indexRun = trialData.speed > speedThresh\n",
    "    trials = trialData[indexOL & indexRun]\n",
    "    trials = trials.sort('wallDistOL', ascending=False)\n",
    "    mat, time, trial, col = getRaster(u, trials, 'corPos')\n",
    "    fig = plt.figure(figsize=(6,3.5))\n",
    "    plotRaster(mat, time, trial, col, colormap(0))"
   ]
  },
  {
   "cell_type": "markdown",
   "metadata": {},
   "source": [
    "## Tuning curve analysis"
   ]
  },
  {
   "cell_type": "markdown",
   "metadata": {},
   "source": [
    "Tuning curve contains x values, mean, std, count of points, and ANOVA p value"
   ]
  },
  {
   "cell_type": "code",
   "execution_count": 39,
   "metadata": {
    "collapsed": false
   },
   "outputs": [],
   "source": [
    "def getTuning(df,T,X,Y,sourceId):\n",
    "    df = df.groupby([T,X]).mean()\n",
    "    df = df.reset_index().set_index(T)\n",
    "    g = [df[df[X] == x][Y].values for x in df[X].unique()]\n",
    "    f, p = f_oneway(*g)\n",
    "    s = df.groupby([X])\n",
    "    d = {'meanRate':s.mean()[Y].values,'stdRate':s.std()[Y].values,'numTrials':s.count().values[:,0]}\n",
    "    tuning = pd.DataFrame(d).T\n",
    "    tuning.columns = s.mean().index.values\n",
    "    tuning['sourceId'] = sourceId\n",
    "    tuning.reset_index(level=0, inplace=True)\n",
    "    tuning.set_index('sourceId', inplace=True)\n",
    "    tuning.rename(columns={'index':'label'}, inplace=True)\n",
    "    tuning.index.name = None\n",
    "    return tuning, p    "
   ]
  },
  {
   "cell_type": "code",
   "execution_count": 40,
   "metadata": {
    "collapsed": true
   },
   "outputs": [],
   "source": [
    "def getTuningEphys(sourceId,keepInd,name,scale):\n",
    "    covariates['spikes'] = getSpikeTimeseries(sourceId)*500\n",
    "    tmp = covariates[keepInd]\n",
    "    tmp = tmp[~tmp['itiPeriod'].values.astype(bool)]\n",
    "    tmp['bin'] = (tmp[name]/scale).round()*scale\n",
    "    df = tmp[['trialNum','bin','spikes']]    \n",
    "    tuning, p = getTuning(df,'trialNum','bin','spikes',sourceId)\n",
    "    return tuning, p"
   ]
  },
  {
   "cell_type": "markdown",
   "metadata": {},
   "source": [
    "####Compute tuning curve"
   ]
  },
  {
   "cell_type": "markdown",
   "metadata": {},
   "source": [
    "Select open loop contra wall trials where mouse was running"
   ]
  },
  {
   "cell_type": "code",
   "execution_count": 41,
   "metadata": {
    "collapsed": false
   },
   "outputs": [],
   "source": [
    "pattern = re.compile('OL_.*R|OL_out')\n",
    "indexOL = trialData.trialType.str.match(pattern, as_indexer=True)\n",
    "indexRun = trialData.speed > speedThresh\n",
    "trials = trialData[indexOL & indexRun]\n",
    "keepInd = [x in trials.index for x in covariates.trialNum.values]\n",
    "tuning = [getTuningEphys(x,keepInd,'corPos',3) for x in units.sourceId]\n",
    "units['pVal'] = [x[1] for x in tuning]\n",
    "tuning = pd.concat([x[0] for x in tuning])"
   ]
  },
  {
   "cell_type": "markdown",
   "metadata": {},
   "source": [
    "####Compute ipsilateral tuning curve"
   ]
  },
  {
   "cell_type": "markdown",
   "metadata": {},
   "source": [
    "Select open loop ipsi wall trials where mouse was running"
   ]
  },
  {
   "cell_type": "code",
   "execution_count": 42,
   "metadata": {
    "collapsed": false
   },
   "outputs": [],
   "source": [
    "if info.ipsiAnm.values[0]:\n",
    "    pattern = re.compile('OL_.*L|OL_out')\n",
    "    indexOL = trialData.trialType.str.match(pattern, as_indexer=True)\n",
    "    indexRun = trialData.speed > speedThresh\n",
    "    trials = trialData[indexOL & indexRun]\n",
    "    keepInd = [x in trials.index for x in covariates.trialNum.values]\n",
    "    tuningIpsi = [getTuningEphys(x,keepInd,'corPos',3) for x in units.sourceId]\n",
    "    units['pValIpsi'] = [x[1] for x in tuningIpsi]\n",
    "    tuningIpsi = pd.concat([x[0] for x in tuningIpsi])"
   ]
  },
  {
   "cell_type": "markdown",
   "metadata": {},
   "source": [
    "#### Compute closed loop tuning curve"
   ]
  },
  {
   "cell_type": "markdown",
   "metadata": {
    "collapsed": true
   },
   "source": [
    "Select closed loop time points when mouse was running"
   ]
  },
  {
   "cell_type": "code",
   "execution_count": 43,
   "metadata": {
    "collapsed": false
   },
   "outputs": [],
   "source": [
    "if info.clAnm.values[0]:\n",
    "    pattern = re.compile('CL_*')\n",
    "    indexCL = trialData.trialType.str.match(pattern, as_indexer=True)\n",
    "    indexRun = trialData.speed > speedThresh\n",
    "    trials = trialData[indexCL & indexRun]\n",
    "    keepInd = [x in trials.index for x in covariates.trialNum.values]\n",
    "    tuningCL = [getTuningEphys(x,keepInd,'corPos',3) for x in units.sourceId]\n",
    "    units['pValClosed'] = [x[1] for x in tuningCL]\n",
    "    tuningCL = pd.concat([x[0] for x in tuningCL])"
   ]
  },
  {
   "cell_type": "markdown",
   "metadata": {},
   "source": [
    "#### Compute running speed tuning curves"
   ]
  },
  {
   "cell_type": "markdown",
   "metadata": {},
   "source": [
    "Select trials when wall was out of reach"
   ]
  },
  {
   "cell_type": "code",
   "execution_count": 44,
   "metadata": {
    "collapsed": false
   },
   "outputs": [],
   "source": [
    "pattern = re.compile('OL_.*R|OL_out')\n",
    "indexOL = trialData.trialType.str.match(pattern, as_indexer=True)\n",
    "indexFar = trialData.wallDistOL  > 20\n",
    "trials = trialData[indexOL & indexFar]\n",
    "keepInd = [x in trials.index for x in covariates.trialNum.values]\n",
    "tuningSpeed = [getTuningEphys(x,keepInd,'speed',5) for x in units.sourceId]\n",
    "units['pValSpeed'] = [x[1] for x in tuningSpeed]\n",
    "tuningSpeed = pd.concat([x[0] for x in tuningSpeed])"
   ]
  },
  {
   "cell_type": "markdown",
   "metadata": {},
   "source": [
    "##Compute wall direction curve"
   ]
  },
  {
   "cell_type": "code",
   "execution_count": 45,
   "metadata": {
    "collapsed": true
   },
   "outputs": [],
   "source": [
    "def getData(sourceId, trials, name):\n",
    "    if name == 'spikes':\n",
    "        covariates['spikes'] = getSpikeTimeseries(sourceId)\n",
    "    data = covariates[name]\n",
    "    lenTrial = 2001\n",
    "    dataMat = np.zeros((len(trials),lenTrial))\n",
    "    ind = 0\n",
    "    for iTrial in trials.index:\n",
    "        tmp = data[(covariates['trialNum'] == iTrial) & (covariates['itiPeriod'] == 0)]\n",
    "        if name == 'spikes':\n",
    "            tmp = np.convolve(tmp,np.ones(50)/50,mode = 'same')\n",
    "        if len(tmp) >= lenTrial:\n",
    "            dataMat[ind,:] = tmp[:lenTrial]\n",
    "        else:\n",
    "            dataMat[ind,:len(tmp)] = tmp\n",
    "            dataMat[ind,len(tmp):] = tmp[-1]\n",
    "        ind = ind + 1\n",
    "    return dataMat"
   ]
  },
  {
   "cell_type": "code",
   "execution_count": 46,
   "metadata": {
    "collapsed": false
   },
   "outputs": [],
   "source": [
    "def getProfile(sourceId,trials,stimMat):\n",
    "    dataMat = getData(sourceId,trials,'spikes')\n",
    "    profiles = np.full([len(stimMat), 1000],np.nan)\n",
    "    for iTrial in range(len(stimMat)):\n",
    "        crossings = np.where(stimMat[iTrial]<=16)[0]\n",
    "        if len(crossings)>0:\n",
    "            profiles[iTrial,:500] = dataMat[iTrial][crossings[0]-150:crossings[0]+350]\n",
    "            profiles[iTrial,500:] = dataMat[iTrial][crossings[-1]-350:crossings[-1]+150]\n",
    "    meanProfile = np.nanmean(profiles,axis = 0)*500\n",
    "    timeProfile = np.linspace(0,1.998,1000)\n",
    "    return meanProfile, timeProfile    "
   ]
  },
  {
   "cell_type": "markdown",
   "metadata": {},
   "source": [
    "Select open loop contra wall trials where mouse was running and wall was close"
   ]
  },
  {
   "cell_type": "code",
   "execution_count": 47,
   "metadata": {
    "collapsed": true
   },
   "outputs": [],
   "source": [
    "pattern = re.compile('OL_.*R|OL_out')\n",
    "indexOL = trialData.trialType.str.match(pattern, as_indexer=True)\n",
    "indexRun = trialData.speed > speedThresh \n",
    "indexWall = trialData.wallDistOL  <= 16\n",
    "trials = trialData[indexOL & indexRun & indexWall]\n",
    "stimMat = getData(0,trials,'corPos')"
   ]
  },
  {
   "cell_type": "code",
   "execution_count": 48,
   "metadata": {
    "collapsed": false
   },
   "outputs": [],
   "source": [
    "profile = pd.DataFrame([getProfile(x,trials,stimMat)[0] for x in units.sourceId])\n",
    "timeProfile = getProfile(0,trials,stimMat)[1]\n",
    "profile.columns = timeProfile"
   ]
  }
 ],
 "metadata": {
  "kernelspec": {
   "display_name": "Python 2",
   "language": "python",
   "name": "python2"
  },
  "language_info": {
   "codemirror_mode": {
    "name": "ipython",
    "version": 2
   },
   "file_extension": ".py",
   "mimetype": "text/x-python",
   "name": "python",
   "nbconvert_exporter": "python",
   "pygments_lexer": "ipython2",
   "version": "2.7.10"
  }
 },
 "nbformat": 4,
 "nbformat_minor": 0
}

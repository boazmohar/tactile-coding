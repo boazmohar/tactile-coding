{
 "cells": [
  {
   "cell_type": "markdown",
   "metadata": {},
   "source": [
    "# Neural coding in barrel cortex during whisker-guided locomotion"
   ]
  },
  {
   "cell_type": "markdown",
   "metadata": {},
   "source": [
    "###Analysis of tabluar data from calcium imaging experiments"
   ]
  },
  {
   "cell_type": "markdown",
   "metadata": {},
   "source": [
    "This notebook loads and plots and tables derived from the calcium imaging data found in Sofroniew\\*, Vlasov\\*, et al. (submitted) and will reproduce figure 3 panels c-g."
   ]
  },
  {
   "cell_type": "markdown",
   "metadata": {},
   "source": [
    "## Setup"
   ]
  },
  {
   "cell_type": "markdown",
   "metadata": {},
   "source": [
    "#### Evnironment"
   ]
  },
  {
   "cell_type": "code",
   "execution_count": 1,
   "metadata": {
    "collapsed": true
   },
   "outputs": [],
   "source": [
    "import os\n",
    "import numpy as np\n",
    "import pandas as pd\n",
    "import json"
   ]
  },
  {
   "cell_type": "markdown",
   "metadata": {},
   "source": [
    "#### Plotting"
   ]
  },
  {
   "cell_type": "code",
   "execution_count": 2,
   "metadata": {
    "collapsed": false
   },
   "outputs": [],
   "source": [
    "import matplotlib.pyplot as plt\n",
    "%matplotlib inline\n",
    "import seaborn as sns\n",
    "sns.set_context('paper', font_scale=2.0)\n",
    "sns.set_style('ticks')\n",
    "from helper.plots import *"
   ]
  },
  {
   "cell_type": "markdown",
   "metadata": {},
   "source": [
    "####Widgets"
   ]
  },
  {
   "cell_type": "code",
   "execution_count": 3,
   "metadata": {
    "collapsed": false
   },
   "outputs": [
    {
     "name": "stderr",
     "output_type": "stream",
     "text": [
      ":0: FutureWarning: IPython widgets are experimental and may change in the future.\n"
     ]
    }
   ],
   "source": [
    "from IPython.html import widgets\n",
    "from IPython.display import display\n",
    "from IPython.html.widgets import interactive\n",
    "from IPython.html.widgets import interact"
   ]
  },
  {
   "cell_type": "code",
   "execution_count": 4,
   "metadata": {
    "collapsed": false
   },
   "outputs": [],
   "source": [
    "def listSources(animal):\n",
    "    sourcesList = table.index.tolist()\n",
    "    sources.options = [str(x[1]) for x in sourcesList if x[0] == animal]"
   ]
  },
  {
   "cell_type": "markdown",
   "metadata": {},
   "source": [
    "#### Helper functions for loading and processing data"
   ]
  },
  {
   "cell_type": "markdown",
   "metadata": {},
   "source": [
    "This helper function is using during loading to align tables to a primary key"
   ]
  },
  {
   "cell_type": "code",
   "execution_count": 5,
   "metadata": {
    "collapsed": false
   },
   "outputs": [],
   "source": [
    "def align(table, primary, index):\n",
    "    table['sourceId'] = primary['sourceId']\n",
    "    table.set_index(index,inplace = True)\n",
    "    table.columns = table.columns.astype('float')\n",
    "    return table"
   ]
  },
  {
   "cell_type": "markdown",
   "metadata": {},
   "source": [
    "This helper function loads mutliple tables from a session into a dictionary where the keys are table names"
   ]
  },
  {
   "cell_type": "code",
   "execution_count": 6,
   "metadata": {
    "collapsed": false
   },
   "outputs": [],
   "source": [
    "def load(session):\n",
    "    # load the info\n",
    "    with open(os.path.join(path,'data',session,'info.json')) as infile:\n",
    "        info = json.load(infile)\n",
    "        \n",
    "    d = {}\n",
    "\n",
    "    # load the units (which have our primary keys)\n",
    "    d['units'] = pd.DataFrame.from_csv(os.path.join(path,'data',session,'tables','units.csv'))\n",
    "    d['units']['sourceId'] = d['units'].index\n",
    "    \n",
    "    # load all the tables    \n",
    "    d['tuning'] = pd.DataFrame.from_csv(os.path.join(path,'data',session,'tables','tuning.csv'))   \n",
    "    d['tuning'] = align(d['tuning'], d['units'], ['sourceId', 'label'])\n",
    "    d['tuningNum'] = d['tuning'].xs('numTrials', level='label')\n",
    "    err = d['tuning'].xs('stdRate', level='label').divide(d['tuningNum'].apply(np.sqrt))\n",
    "    d['tuning'] = d['tuning'].xs('meanRate', level='label')\n",
    "    d['tuningErr'] = err\n",
    "    d['tuningSummary'] = summarizeTuning(d['tuning'])\n",
    "  \n",
    "    d['units'] = d['units'].drop(['sourceId'], axis=1)\n",
    "    \n",
    "    # add tables\n",
    "    d = pd.concat([d[x] for x in d.keys()], axis = 1, keys = d.keys())\n",
    "    \n",
    "    info['contributors'] = ', '.join(info['contributors'])\n",
    "    info['dimensions'] = str(info['dimensions'])\n",
    "    info['session'] = session\n",
    "    info = pd.DataFrame(info, index = [str(info['id'])])\n",
    "    \n",
    "    #d['info'] = info\n",
    "    return d, info"
   ]
  },
  {
   "cell_type": "markdown",
   "metadata": {},
   "source": [
    "Append position tuning information to units data frame"
   ]
  },
  {
   "cell_type": "code",
   "execution_count": 7,
   "metadata": {
    "collapsed": false
   },
   "outputs": [],
   "source": [
    "def summarizeTuning(df):\n",
    "    x = df.columns.values\n",
    "    xs, ys = smoothfit(x, df.values[0],smooth=smooth)\n",
    "    smoothed = [smoothfit(x, y, smooth=smooth)[1] for y in df.values]\n",
    "\n",
    "    summary = pd.DataFrame(index=df.index)\n",
    "    summary['Baseline'] = [y[-1] for y in smoothed]\n",
    "    summary['Max'] = [max(y) for y in smoothed]\n",
    "    summary['ArgMax'] = [xs[np.argmax(y)] for y in smoothed]\n",
    "    summary['Min'] = [min(y) for y in smoothed]\n",
    "    summary['Mean'] = [np.mean(y) for y in smoothed]\n",
    "\n",
    "    summary['Activation'] = summary.Max - summary.Baseline\n",
    "    summary['Supression'] = summary.Baseline - summary.Min\n",
    "    summary['Range'] = summary.Max - summary.Min\n",
    "    summary['Modulation'] = (summary.Activation - summary.Supression)/(summary.Activation + summary.Supression)\n",
    "    summary['TotalModulation'] = (summary.Max - summary.Min)/(summary.Max + summary.Min)\n",
    "    return summary"
   ]
  },
  {
   "cell_type": "markdown",
   "metadata": {},
   "source": [
    "Define smooth parameter"
   ]
  },
  {
   "cell_type": "code",
   "execution_count": 8,
   "metadata": {
    "collapsed": true
   },
   "outputs": [],
   "source": [
    "smooth = 1"
   ]
  },
  {
   "cell_type": "markdown",
   "metadata": {},
   "source": [
    "## Load JSON + CSV as DataFrames"
   ]
  },
  {
   "cell_type": "markdown",
   "metadata": {},
   "source": [
    "For each animal there is an info.json file with metadata descibring the experiment, and there are .csv files with tabular data where each row contains data recorded from a single neuron"
   ]
  },
  {
   "cell_type": "markdown",
   "metadata": {},
   "source": [
    "#### Specify location of the data"
   ]
  },
  {
   "cell_type": "code",
   "execution_count": 27,
   "metadata": {
    "collapsed": true
   },
   "outputs": [],
   "source": [
    "path = os.path.expanduser('~/notebooks')"
   ]
  },
  {
   "cell_type": "markdown",
   "metadata": {},
   "source": [
    "#### Load the tables from each session"
   ]
  },
  {
   "cell_type": "code",
   "execution_count": 10,
   "metadata": {
    "collapsed": false
   },
   "outputs": [
    {
     "name": "stderr",
     "output_type": "stream",
     "text": [
      "/Users/sofroniewn/anaconda/lib/python2.7/site-packages/scipy/interpolate/fitpack2.py:220: UserWarning: \n",
      "The maximal number of iterations maxit (set to 20 by the program)\n",
      "allowed for finding a smoothing spline with fp=s has been reached: s\n",
      "too small.\n",
      "There is an approximation returned but the corresponding weighted sum\n",
      "of squared residuals does not satisfy the condition abs(fp-s)/s < tol.\n",
      "  warnings.warn(message)\n"
     ]
    }
   ],
   "source": [
    "sessions = range(13,19)\n",
    "data = [load('%02g' % s) for s in sessions]\n",
    "table =  pd.concat([x[0] for x in data], keys=[str(x[1].index[0]) for x in data], names=['anmId'])\n",
    "info =  pd.concat([x[1] for x in data])"
   ]
  },
  {
   "cell_type": "markdown",
   "metadata": {},
   "source": [
    "#### Create widgets to allow for animal selection"
   ]
  },
  {
   "cell_type": "code",
   "execution_count": 11,
   "metadata": {
    "collapsed": false
   },
   "outputs": [],
   "source": [
    "animals = widgets.Dropdown(options = info.index.tolist())\n",
    "wA = interactive(listSources, animal=animals)\n",
    "sources = widgets.Select(options = [])\n",
    "wS = interactive(lambda source:source, source=sources)"
   ]
  },
  {
   "cell_type": "markdown",
   "metadata": {},
   "source": [
    "## Summarize units"
   ]
  },
  {
   "cell_type": "code",
   "execution_count": 12,
   "metadata": {
    "collapsed": false
   },
   "outputs": [
    {
     "data": {
      "text/plain": [
       "mean       336.500000\n",
       "numAnm       6.000000\n",
       "std         69.875484\n",
       "total     2019.000000\n",
       "dtype: float64"
      ]
     },
     "execution_count": 12,
     "metadata": {},
     "output_type": "execute_result"
    }
   ],
   "source": [
    "units = table.units.reset_index()\n",
    "unitCount = units.groupby(['anmId']).count()['sourceId'].values\n",
    "units.set_index(['anmId', 'sourceId'], inplace=True)\n",
    "unitSummary = pd.Series({'total':len(units), 'mean':np.mean(unitCount), 'std':np.std(unitCount), 'numAnm':len(unitCount)})\n",
    "unitSummary"
   ]
  },
  {
   "cell_type": "markdown",
   "metadata": {},
   "source": [
    "#### Plot fractions of active and tuned neurons"
   ]
  },
  {
   "cell_type": "code",
   "execution_count": 13,
   "metadata": {
    "collapsed": false
   },
   "outputs": [
    {
     "data": {
      "text/html": [
       "<div>\n",
       "<table border=\"1\" class=\"dataframe\">\n",
       "  <thead>\n",
       "    <tr style=\"text-align: right;\">\n",
       "      <th></th>\n",
       "      <th>number</th>\n",
       "      <th>percent</th>\n",
       "    </tr>\n",
       "  </thead>\n",
       "  <tbody>\n",
       "    <tr>\n",
       "      <th>inactive</th>\n",
       "      <td>1121</td>\n",
       "      <td>55.522536</td>\n",
       "    </tr>\n",
       "    <tr>\n",
       "      <th>tuned</th>\n",
       "      <td>564</td>\n",
       "      <td>27.934621</td>\n",
       "    </tr>\n",
       "    <tr>\n",
       "      <th>untuned</th>\n",
       "      <td>334</td>\n",
       "      <td>16.542843</td>\n",
       "    </tr>\n",
       "  </tbody>\n",
       "</table>\n",
       "</div>"
      ],
      "text/plain": [
       "          number    percent\n",
       "inactive    1121  55.522536\n",
       "tuned        564  27.934621\n",
       "untuned      334  16.542843"
      ]
     },
     "execution_count": 13,
     "metadata": {},
     "output_type": "execute_result"
    }
   ],
   "source": [
    "tuned = (units.pVal<0.05) & (table.tuningSummary.Range > .3)\n",
    "active = units.activity > 1.0\n",
    "summaryActivity = pd.DataFrame([sum((~active) & (~tuned)), sum(tuned), sum(active & (~tuned))], index=['inactive','tuned','untuned'], columns=['number'])\n",
    "summaryActivity['percent'] = 100*summaryActivity.number/summaryActivity.number.sum()\n",
    "summaryActivity"
   ]
  },
  {
   "cell_type": "code",
   "execution_count": 14,
   "metadata": {
    "collapsed": false
   },
   "outputs": [
    {
     "data": {
      "image/png": "[encoded data removed]",
      "text/plain": [
       "<matplotlib.figure.Figure at 0x108fda610>"
      ]
     },
     "metadata": {},
     "output_type": "display_data"
    }
   ],
   "source": [
    "col = colormap()(0)[:3]\n",
    "plt.axes(aspect=1);\n",
    "plt.pie(summaryActivity.percent, labels=['%.1f' % summaryActivity.percent.iloc[0],'%.1f' % summaryActivity.percent.iloc[1],'%.1f' % summaryActivity.percent.iloc[2]], colors=[[.2, .2, .2],col,[.8, .8, .8]], wedgeprops={'linewidth':0});"
   ]
  },
  {
   "cell_type": "markdown",
   "metadata": {},
   "source": [
    "# Plot tuning curves"
   ]
  },
  {
   "cell_type": "markdown",
   "metadata": {},
   "source": [
    "The paper includes the following tuning curves\n",
    "* 'Anm_0216166', 150\n",
    "* 'Anm_0216166', 160\n",
    "* 'Anm_0216166', 159"
   ]
  },
  {
   "cell_type": "code",
   "execution_count": 15,
   "metadata": {
    "collapsed": false
   },
   "outputs": [],
   "source": [
    "display(wA,wS)"
   ]
  },
  {
   "cell_type": "code",
   "execution_count": 25,
   "metadata": {
    "collapsed": false
   },
   "outputs": [
    {
     "data": {
      "image/png": "[encoded data removed]",
      "text/plain": [
       "<matplotlib.figure.Figure at 0x10f11dd50>"
      ]
     },
     "metadata": {},
     "output_type": "display_data"
    }
   ],
   "source": [
    "a = wA.kwargs['animal']\n",
    "u = int(wS.kwargs['source'])\n",
    "x = table.tuning.columns.values\n",
    "y = table.tuning.loc[a,u].values\n",
    "err = table.tuningErr.loc[a,u].values\n",
    "tuning(x, y, err, smooth=smooth, ylabel='Activity (Dff)');"
   ]
  },
  {
   "cell_type": "markdown",
   "metadata": {},
   "source": [
    "## Plot summary tuning curves"
   ]
  },
  {
   "cell_type": "code",
   "execution_count": 17,
   "metadata": {
    "collapsed": false
   },
   "outputs": [
    {
     "data": {
      "image/png": "[encoded data removed]",
      "text/plain": [
       "<matplotlib.figure.Figure at 0x10d7a8610>"
      ]
     },
     "metadata": {},
     "output_type": "display_data"
    }
   ],
   "source": [
    "curves = table[tuned.values].sort([('tuningSummary','ArgMax')])\n",
    "xy = [(curves.tuning.columns.values, y) for y in curves.tuning.values]\n",
    "fits = smootharray(xy, smooth=smooth, res=100)\n",
    "heatmap(fits, aspect=.4)"
   ]
  },
  {
   "cell_type": "markdown",
   "metadata": {},
   "source": [
    "## Plot summary tuning"
   ]
  },
  {
   "cell_type": "code",
   "execution_count": 18,
   "metadata": {
    "collapsed": false
   },
   "outputs": [
    {
     "data": {
      "image/png": "[encoded data removed]",
      "text/plain": [
       "<matplotlib.figure.Figure at 0x10ee1df50>"
      ]
     },
     "metadata": {},
     "output_type": "display_data"
    }
   ],
   "source": [
    "hist(table[tuned.values].tuningSummary.ArgMax, xlabel='ArgMax', ylabel='Number of units')\n",
    "plt.xticks(range(0,40,10));\n",
    "plt.yticks(range(0,300,100));"
   ]
  }
 ],
 "metadata": {
  "kernelspec": {
   "display_name": "Python 2",
   "language": "python",
   "name": "python2"
  },
  "language_info": {
   "codemirror_mode": {
    "name": "ipython",
    "version": 2
   },
   "file_extension": ".py",
   "mimetype": "text/x-python",
   "name": "python",
   "nbconvert_exporter": "python",
   "pygments_lexer": "ipython2",
   "version": "2.7.10"
  }
 },
 "nbformat": 4,
 "nbformat_minor": 0
}
